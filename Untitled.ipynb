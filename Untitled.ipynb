{
 "cells": [
  {
   "cell_type": "code",
   "execution_count": 1,
   "metadata": {},
   "outputs": [],
   "source": [
    "import os\n",
    "import pandas as pd\n",
    "import numpy as np\n",
    "import seaborn as sns\n",
    "import matplotlib.pyplot as plt\n",
    "%matplotlib inline"
   ]
  },
  {
   "cell_type": "code",
   "execution_count": 2,
   "metadata": {},
   "outputs": [
    {
     "data": {
      "text/plain": [
       "'C:\\\\Users\\\\91868\\\\Desktop\\\\Python Code\\\\Mathco Hackathon'"
      ]
     },
     "execution_count": 2,
     "metadata": {},
     "output_type": "execute_result"
    }
   ],
   "source": [
    "os.getcwd()"
   ]
  },
  {
   "cell_type": "code",
   "execution_count": 3,
   "metadata": {},
   "outputs": [],
   "source": [
    "train = pd.read_csv('train.csv')\n",
    "test  = pd.read_csv('test.csv')"
   ]
  },
  {
   "cell_type": "code",
   "execution_count": 4,
   "metadata": {
    "scrolled": true
   },
   "outputs": [
    {
     "data": {
      "text/plain": [
       "(19237, 18)"
      ]
     },
     "execution_count": 4,
     "metadata": {},
     "output_type": "execute_result"
    }
   ],
   "source": [
    "train.shape"
   ]
  },
  {
   "cell_type": "code",
   "execution_count": 5,
   "metadata": {},
   "outputs": [
    {
     "data": {
      "text/plain": [
       "(8245, 18)"
      ]
     },
     "execution_count": 5,
     "metadata": {},
     "output_type": "execute_result"
    }
   ],
   "source": [
    "test.shape"
   ]
  },
  {
   "cell_type": "code",
   "execution_count": 6,
   "metadata": {},
   "outputs": [
    {
     "name": "stdout",
     "output_type": "stream",
     "text": [
      "<class 'pandas.core.frame.DataFrame'>\n",
      "RangeIndex: 19237 entries, 0 to 19236\n",
      "Data columns (total 18 columns):\n",
      " #   Column            Non-Null Count  Dtype  \n",
      "---  ------            --------------  -----  \n",
      " 0   ID                19237 non-null  int64  \n",
      " 1   Price             19237 non-null  int64  \n",
      " 2   Levy              19237 non-null  object \n",
      " 3   Manufacturer      19237 non-null  object \n",
      " 4   Model             19237 non-null  object \n",
      " 5   Prod. year        19237 non-null  int64  \n",
      " 6   Category          19237 non-null  object \n",
      " 7   Leather interior  19237 non-null  object \n",
      " 8   Fuel type         19237 non-null  object \n",
      " 9   Engine volume     19237 non-null  object \n",
      " 10  Mileage           19237 non-null  object \n",
      " 11  Cylinders         19237 non-null  float64\n",
      " 12  Gear box type     19237 non-null  object \n",
      " 13  Drive wheels      19237 non-null  object \n",
      " 14  Doors             19237 non-null  object \n",
      " 15  Wheel             19237 non-null  object \n",
      " 16  Color             19237 non-null  object \n",
      " 17  Airbags           19237 non-null  int64  \n",
      "dtypes: float64(1), int64(4), object(13)\n",
      "memory usage: 2.6+ MB\n"
     ]
    }
   ],
   "source": [
    "train.info()"
   ]
  },
  {
   "cell_type": "code",
   "execution_count": 7,
   "metadata": {
    "scrolled": true
   },
   "outputs": [
    {
     "name": "stdout",
     "output_type": "stream",
     "text": [
      "<class 'pandas.core.frame.DataFrame'>\n",
      "RangeIndex: 8245 entries, 0 to 8244\n",
      "Data columns (total 18 columns):\n",
      " #   Column            Non-Null Count  Dtype  \n",
      "---  ------            --------------  -----  \n",
      " 0   ID                8245 non-null   int64  \n",
      " 1   Levy              8245 non-null   object \n",
      " 2   Manufacturer      8245 non-null   object \n",
      " 3   Model             8245 non-null   object \n",
      " 4   Prod. year        8245 non-null   int64  \n",
      " 5   Category          8245 non-null   object \n",
      " 6   Leather interior  8245 non-null   object \n",
      " 7   Fuel type         8245 non-null   object \n",
      " 8   Engine volume     8245 non-null   object \n",
      " 9   Mileage           8245 non-null   object \n",
      " 10  Cylinders         8245 non-null   int64  \n",
      " 11  Gear box type     8245 non-null   object \n",
      " 12  Drive wheels      8245 non-null   object \n",
      " 13  Doors             8245 non-null   object \n",
      " 14  Wheel             8245 non-null   object \n",
      " 15  Color             8245 non-null   object \n",
      " 16  Airbags           8245 non-null   int64  \n",
      " 17  Price             0 non-null      float64\n",
      "dtypes: float64(1), int64(4), object(13)\n",
      "memory usage: 1.1+ MB\n"
     ]
    }
   ],
   "source": [
    "test.info()"
   ]
  },
  {
   "cell_type": "code",
   "execution_count": 8,
   "metadata": {
    "scrolled": true
   },
   "outputs": [
    {
     "data": {
      "text/html": [
       "<div>\n",
       "<style scoped>\n",
       "    .dataframe tbody tr th:only-of-type {\n",
       "        vertical-align: middle;\n",
       "    }\n",
       "\n",
       "    .dataframe tbody tr th {\n",
       "        vertical-align: top;\n",
       "    }\n",
       "\n",
       "    .dataframe thead th {\n",
       "        text-align: right;\n",
       "    }\n",
       "</style>\n",
       "<table border=\"1\" class=\"dataframe\">\n",
       "  <thead>\n",
       "    <tr style=\"text-align: right;\">\n",
       "      <th></th>\n",
       "      <th>ID</th>\n",
       "      <th>Price</th>\n",
       "      <th>Prod. year</th>\n",
       "      <th>Cylinders</th>\n",
       "      <th>Airbags</th>\n",
       "    </tr>\n",
       "  </thead>\n",
       "  <tbody>\n",
       "    <tr>\n",
       "      <th>count</th>\n",
       "      <td>19237.00000</td>\n",
       "      <td>19237.00000</td>\n",
       "      <td>19237.00000</td>\n",
       "      <td>19237.00000</td>\n",
       "      <td>19237.00000</td>\n",
       "    </tr>\n",
       "    <tr>\n",
       "      <th>mean</th>\n",
       "      <td>45576535.88610</td>\n",
       "      <td>18555.92722</td>\n",
       "      <td>2010.91282</td>\n",
       "      <td>4.58299</td>\n",
       "      <td>6.58263</td>\n",
       "    </tr>\n",
       "    <tr>\n",
       "      <th>std</th>\n",
       "      <td>936591.42280</td>\n",
       "      <td>190581.26968</td>\n",
       "      <td>5.66867</td>\n",
       "      <td>1.19993</td>\n",
       "      <td>4.32017</td>\n",
       "    </tr>\n",
       "    <tr>\n",
       "      <th>min</th>\n",
       "      <td>20746880.00000</td>\n",
       "      <td>1.00000</td>\n",
       "      <td>1939.00000</td>\n",
       "      <td>1.00000</td>\n",
       "      <td>0.00000</td>\n",
       "    </tr>\n",
       "    <tr>\n",
       "      <th>25%</th>\n",
       "      <td>45698374.00000</td>\n",
       "      <td>5331.00000</td>\n",
       "      <td>2009.00000</td>\n",
       "      <td>4.00000</td>\n",
       "      <td>4.00000</td>\n",
       "    </tr>\n",
       "    <tr>\n",
       "      <th>50%</th>\n",
       "      <td>45772308.00000</td>\n",
       "      <td>13172.00000</td>\n",
       "      <td>2012.00000</td>\n",
       "      <td>4.00000</td>\n",
       "      <td>6.00000</td>\n",
       "    </tr>\n",
       "    <tr>\n",
       "      <th>75%</th>\n",
       "      <td>45802036.00000</td>\n",
       "      <td>22075.00000</td>\n",
       "      <td>2015.00000</td>\n",
       "      <td>4.00000</td>\n",
       "      <td>12.00000</td>\n",
       "    </tr>\n",
       "    <tr>\n",
       "      <th>max</th>\n",
       "      <td>45816654.00000</td>\n",
       "      <td>26307500.00000</td>\n",
       "      <td>2020.00000</td>\n",
       "      <td>16.00000</td>\n",
       "      <td>16.00000</td>\n",
       "    </tr>\n",
       "  </tbody>\n",
       "</table>\n",
       "</div>"
      ],
      "text/plain": [
       "                   ID           Price   Prod. year    Cylinders      Airbags\n",
       "count     19237.00000     19237.00000  19237.00000  19237.00000  19237.00000\n",
       "mean   45576535.88610     18555.92722   2010.91282      4.58299      6.58263\n",
       "std      936591.42280    190581.26968      5.66867      1.19993      4.32017\n",
       "min    20746880.00000         1.00000   1939.00000      1.00000      0.00000\n",
       "25%    45698374.00000      5331.00000   2009.00000      4.00000      4.00000\n",
       "50%    45772308.00000     13172.00000   2012.00000      4.00000      6.00000\n",
       "75%    45802036.00000     22075.00000   2015.00000      4.00000     12.00000\n",
       "max    45816654.00000  26307500.00000   2020.00000     16.00000     16.00000"
      ]
     },
     "execution_count": 8,
     "metadata": {},
     "output_type": "execute_result"
    }
   ],
   "source": [
    "train.describe().apply(lambda s:s.apply('{0:.5f}'.format))"
   ]
  },
  {
   "cell_type": "code",
   "execution_count": 9,
   "metadata": {
    "scrolled": false
   },
   "outputs": [
    {
     "data": {
      "text/html": [
       "<div>\n",
       "<style scoped>\n",
       "    .dataframe tbody tr th:only-of-type {\n",
       "        vertical-align: middle;\n",
       "    }\n",
       "\n",
       "    .dataframe tbody tr th {\n",
       "        vertical-align: top;\n",
       "    }\n",
       "\n",
       "    .dataframe thead th {\n",
       "        text-align: right;\n",
       "    }\n",
       "</style>\n",
       "<table border=\"1\" class=\"dataframe\">\n",
       "  <thead>\n",
       "    <tr style=\"text-align: right;\">\n",
       "      <th></th>\n",
       "      <th>ID</th>\n",
       "      <th>Price</th>\n",
       "      <th>Levy</th>\n",
       "      <th>Manufacturer</th>\n",
       "      <th>Model</th>\n",
       "      <th>Prod. year</th>\n",
       "      <th>Category</th>\n",
       "      <th>Leather interior</th>\n",
       "      <th>Fuel type</th>\n",
       "      <th>Engine volume</th>\n",
       "      <th>Mileage</th>\n",
       "      <th>Cylinders</th>\n",
       "      <th>Gear box type</th>\n",
       "      <th>Drive wheels</th>\n",
       "      <th>Doors</th>\n",
       "      <th>Wheel</th>\n",
       "      <th>Color</th>\n",
       "      <th>Airbags</th>\n",
       "    </tr>\n",
       "  </thead>\n",
       "  <tbody>\n",
       "    <tr>\n",
       "      <th>0</th>\n",
       "      <td>45654403</td>\n",
       "      <td>13328</td>\n",
       "      <td>1399</td>\n",
       "      <td>LEXUS</td>\n",
       "      <td>RX 450</td>\n",
       "      <td>2010</td>\n",
       "      <td>Jeep</td>\n",
       "      <td>Yes</td>\n",
       "      <td>Hybrid</td>\n",
       "      <td>3.5</td>\n",
       "      <td>186005 km</td>\n",
       "      <td>6.0</td>\n",
       "      <td>Automatic</td>\n",
       "      <td>4x4</td>\n",
       "      <td>04-May</td>\n",
       "      <td>Left wheel</td>\n",
       "      <td>Silver</td>\n",
       "      <td>12</td>\n",
       "    </tr>\n",
       "    <tr>\n",
       "      <th>1</th>\n",
       "      <td>44731507</td>\n",
       "      <td>16621</td>\n",
       "      <td>1018</td>\n",
       "      <td>CHEVROLET</td>\n",
       "      <td>Equinox</td>\n",
       "      <td>2011</td>\n",
       "      <td>Jeep</td>\n",
       "      <td>No</td>\n",
       "      <td>Petrol</td>\n",
       "      <td>3</td>\n",
       "      <td>192000 km</td>\n",
       "      <td>6.0</td>\n",
       "      <td>Tiptronic</td>\n",
       "      <td>4x4</td>\n",
       "      <td>04-May</td>\n",
       "      <td>Left wheel</td>\n",
       "      <td>Black</td>\n",
       "      <td>8</td>\n",
       "    </tr>\n",
       "    <tr>\n",
       "      <th>2</th>\n",
       "      <td>45774419</td>\n",
       "      <td>8467</td>\n",
       "      <td>-</td>\n",
       "      <td>HONDA</td>\n",
       "      <td>FIT</td>\n",
       "      <td>2006</td>\n",
       "      <td>Hatchback</td>\n",
       "      <td>No</td>\n",
       "      <td>Petrol</td>\n",
       "      <td>1.3</td>\n",
       "      <td>200000 km</td>\n",
       "      <td>4.0</td>\n",
       "      <td>Variator</td>\n",
       "      <td>Front</td>\n",
       "      <td>04-May</td>\n",
       "      <td>Right-hand drive</td>\n",
       "      <td>Black</td>\n",
       "      <td>2</td>\n",
       "    </tr>\n",
       "    <tr>\n",
       "      <th>3</th>\n",
       "      <td>45769185</td>\n",
       "      <td>3607</td>\n",
       "      <td>862</td>\n",
       "      <td>FORD</td>\n",
       "      <td>Escape</td>\n",
       "      <td>2011</td>\n",
       "      <td>Jeep</td>\n",
       "      <td>Yes</td>\n",
       "      <td>Hybrid</td>\n",
       "      <td>2.5</td>\n",
       "      <td>168966 km</td>\n",
       "      <td>4.0</td>\n",
       "      <td>Automatic</td>\n",
       "      <td>4x4</td>\n",
       "      <td>04-May</td>\n",
       "      <td>Left wheel</td>\n",
       "      <td>White</td>\n",
       "      <td>0</td>\n",
       "    </tr>\n",
       "    <tr>\n",
       "      <th>4</th>\n",
       "      <td>45809263</td>\n",
       "      <td>11726</td>\n",
       "      <td>446</td>\n",
       "      <td>HONDA</td>\n",
       "      <td>FIT</td>\n",
       "      <td>2014</td>\n",
       "      <td>Hatchback</td>\n",
       "      <td>Yes</td>\n",
       "      <td>Petrol</td>\n",
       "      <td>1.3</td>\n",
       "      <td>91901 km</td>\n",
       "      <td>4.0</td>\n",
       "      <td>Automatic</td>\n",
       "      <td>Front</td>\n",
       "      <td>04-May</td>\n",
       "      <td>Left wheel</td>\n",
       "      <td>Silver</td>\n",
       "      <td>4</td>\n",
       "    </tr>\n",
       "  </tbody>\n",
       "</table>\n",
       "</div>"
      ],
      "text/plain": [
       "         ID  Price  Levy Manufacturer    Model  Prod. year   Category  \\\n",
       "0  45654403  13328  1399        LEXUS   RX 450        2010       Jeep   \n",
       "1  44731507  16621  1018    CHEVROLET  Equinox        2011       Jeep   \n",
       "2  45774419   8467     -        HONDA      FIT        2006  Hatchback   \n",
       "3  45769185   3607   862         FORD   Escape        2011       Jeep   \n",
       "4  45809263  11726   446        HONDA      FIT        2014  Hatchback   \n",
       "\n",
       "  Leather interior Fuel type Engine volume    Mileage  Cylinders  \\\n",
       "0              Yes    Hybrid           3.5  186005 km        6.0   \n",
       "1               No    Petrol             3  192000 km        6.0   \n",
       "2               No    Petrol           1.3  200000 km        4.0   \n",
       "3              Yes    Hybrid           2.5  168966 km        4.0   \n",
       "4              Yes    Petrol           1.3   91901 km        4.0   \n",
       "\n",
       "  Gear box type Drive wheels   Doors             Wheel   Color  Airbags  \n",
       "0     Automatic          4x4  04-May        Left wheel  Silver       12  \n",
       "1     Tiptronic          4x4  04-May        Left wheel   Black        8  \n",
       "2      Variator        Front  04-May  Right-hand drive   Black        2  \n",
       "3     Automatic          4x4  04-May        Left wheel   White        0  \n",
       "4     Automatic        Front  04-May        Left wheel  Silver        4  "
      ]
     },
     "execution_count": 9,
     "metadata": {},
     "output_type": "execute_result"
    }
   ],
   "source": [
    "train.head()"
   ]
  },
  {
   "cell_type": "code",
   "execution_count": 10,
   "metadata": {},
   "outputs": [],
   "source": [
    "data = pd.concat([train, test])"
   ]
  },
  {
   "cell_type": "code",
   "execution_count": 11,
   "metadata": {},
   "outputs": [
    {
     "data": {
      "text/plain": [
       "(27482, 18)"
      ]
     },
     "execution_count": 11,
     "metadata": {},
     "output_type": "execute_result"
    }
   ],
   "source": [
    "data.shape"
   ]
  },
  {
   "cell_type": "code",
   "execution_count": 12,
   "metadata": {
    "scrolled": true
   },
   "outputs": [
    {
     "name": "stdout",
     "output_type": "stream",
     "text": [
      "<class 'pandas.core.frame.DataFrame'>\n",
      "Int64Index: 27482 entries, 0 to 8244\n",
      "Data columns (total 18 columns):\n",
      " #   Column            Non-Null Count  Dtype  \n",
      "---  ------            --------------  -----  \n",
      " 0   ID                27482 non-null  int64  \n",
      " 1   Price             19237 non-null  float64\n",
      " 2   Levy              27482 non-null  object \n",
      " 3   Manufacturer      27482 non-null  object \n",
      " 4   Model             27482 non-null  object \n",
      " 5   Prod. year        27482 non-null  int64  \n",
      " 6   Category          27482 non-null  object \n",
      " 7   Leather interior  27482 non-null  object \n",
      " 8   Fuel type         27482 non-null  object \n",
      " 9   Engine volume     27482 non-null  object \n",
      " 10  Mileage           27482 non-null  object \n",
      " 11  Cylinders         27482 non-null  float64\n",
      " 12  Gear box type     27482 non-null  object \n",
      " 13  Drive wheels      27482 non-null  object \n",
      " 14  Doors             27482 non-null  object \n",
      " 15  Wheel             27482 non-null  object \n",
      " 16  Color             27482 non-null  object \n",
      " 17  Airbags           27482 non-null  int64  \n",
      "dtypes: float64(2), int64(3), object(13)\n",
      "memory usage: 4.0+ MB\n"
     ]
    }
   ],
   "source": [
    "data.info()"
   ]
  },
  {
   "cell_type": "code",
   "execution_count": 13,
   "metadata": {},
   "outputs": [
    {
     "data": {
      "text/html": [
       "<div>\n",
       "<style scoped>\n",
       "    .dataframe tbody tr th:only-of-type {\n",
       "        vertical-align: middle;\n",
       "    }\n",
       "\n",
       "    .dataframe tbody tr th {\n",
       "        vertical-align: top;\n",
       "    }\n",
       "\n",
       "    .dataframe thead th {\n",
       "        text-align: right;\n",
       "    }\n",
       "</style>\n",
       "<table border=\"1\" class=\"dataframe\">\n",
       "  <thead>\n",
       "    <tr style=\"text-align: right;\">\n",
       "      <th></th>\n",
       "      <th>ID</th>\n",
       "      <th>Price</th>\n",
       "      <th>Levy</th>\n",
       "      <th>Manufacturer</th>\n",
       "      <th>Model</th>\n",
       "      <th>Prod. year</th>\n",
       "      <th>Category</th>\n",
       "      <th>Leather interior</th>\n",
       "      <th>Fuel type</th>\n",
       "      <th>Engine volume</th>\n",
       "      <th>Mileage</th>\n",
       "      <th>Cylinders</th>\n",
       "      <th>Gear box type</th>\n",
       "      <th>Drive wheels</th>\n",
       "      <th>Doors</th>\n",
       "      <th>Wheel</th>\n",
       "      <th>Color</th>\n",
       "      <th>Airbags</th>\n",
       "    </tr>\n",
       "  </thead>\n",
       "  <tbody>\n",
       "    <tr>\n",
       "      <th>0</th>\n",
       "      <td>45654403</td>\n",
       "      <td>13328.0</td>\n",
       "      <td>1399</td>\n",
       "      <td>LEXUS</td>\n",
       "      <td>RX 450</td>\n",
       "      <td>2010</td>\n",
       "      <td>Jeep</td>\n",
       "      <td>Yes</td>\n",
       "      <td>Hybrid</td>\n",
       "      <td>3.5</td>\n",
       "      <td>186005 km</td>\n",
       "      <td>6.0</td>\n",
       "      <td>Automatic</td>\n",
       "      <td>4x4</td>\n",
       "      <td>04-May</td>\n",
       "      <td>Left wheel</td>\n",
       "      <td>Silver</td>\n",
       "      <td>12</td>\n",
       "    </tr>\n",
       "    <tr>\n",
       "      <th>1</th>\n",
       "      <td>44731507</td>\n",
       "      <td>16621.0</td>\n",
       "      <td>1018</td>\n",
       "      <td>CHEVROLET</td>\n",
       "      <td>Equinox</td>\n",
       "      <td>2011</td>\n",
       "      <td>Jeep</td>\n",
       "      <td>No</td>\n",
       "      <td>Petrol</td>\n",
       "      <td>3</td>\n",
       "      <td>192000 km</td>\n",
       "      <td>6.0</td>\n",
       "      <td>Tiptronic</td>\n",
       "      <td>4x4</td>\n",
       "      <td>04-May</td>\n",
       "      <td>Left wheel</td>\n",
       "      <td>Black</td>\n",
       "      <td>8</td>\n",
       "    </tr>\n",
       "    <tr>\n",
       "      <th>2</th>\n",
       "      <td>45774419</td>\n",
       "      <td>8467.0</td>\n",
       "      <td>-</td>\n",
       "      <td>HONDA</td>\n",
       "      <td>FIT</td>\n",
       "      <td>2006</td>\n",
       "      <td>Hatchback</td>\n",
       "      <td>No</td>\n",
       "      <td>Petrol</td>\n",
       "      <td>1.3</td>\n",
       "      <td>200000 km</td>\n",
       "      <td>4.0</td>\n",
       "      <td>Variator</td>\n",
       "      <td>Front</td>\n",
       "      <td>04-May</td>\n",
       "      <td>Right-hand drive</td>\n",
       "      <td>Black</td>\n",
       "      <td>2</td>\n",
       "    </tr>\n",
       "    <tr>\n",
       "      <th>3</th>\n",
       "      <td>45769185</td>\n",
       "      <td>3607.0</td>\n",
       "      <td>862</td>\n",
       "      <td>FORD</td>\n",
       "      <td>Escape</td>\n",
       "      <td>2011</td>\n",
       "      <td>Jeep</td>\n",
       "      <td>Yes</td>\n",
       "      <td>Hybrid</td>\n",
       "      <td>2.5</td>\n",
       "      <td>168966 km</td>\n",
       "      <td>4.0</td>\n",
       "      <td>Automatic</td>\n",
       "      <td>4x4</td>\n",
       "      <td>04-May</td>\n",
       "      <td>Left wheel</td>\n",
       "      <td>White</td>\n",
       "      <td>0</td>\n",
       "    </tr>\n",
       "    <tr>\n",
       "      <th>4</th>\n",
       "      <td>45809263</td>\n",
       "      <td>11726.0</td>\n",
       "      <td>446</td>\n",
       "      <td>HONDA</td>\n",
       "      <td>FIT</td>\n",
       "      <td>2014</td>\n",
       "      <td>Hatchback</td>\n",
       "      <td>Yes</td>\n",
       "      <td>Petrol</td>\n",
       "      <td>1.3</td>\n",
       "      <td>91901 km</td>\n",
       "      <td>4.0</td>\n",
       "      <td>Automatic</td>\n",
       "      <td>Front</td>\n",
       "      <td>04-May</td>\n",
       "      <td>Left wheel</td>\n",
       "      <td>Silver</td>\n",
       "      <td>4</td>\n",
       "    </tr>\n",
       "    <tr>\n",
       "      <th>5</th>\n",
       "      <td>45802912</td>\n",
       "      <td>39493.0</td>\n",
       "      <td>891</td>\n",
       "      <td>HYUNDAI</td>\n",
       "      <td>Santa FE</td>\n",
       "      <td>2016</td>\n",
       "      <td>Jeep</td>\n",
       "      <td>Yes</td>\n",
       "      <td>Diesel</td>\n",
       "      <td>2</td>\n",
       "      <td>160931 km</td>\n",
       "      <td>4.0</td>\n",
       "      <td>Automatic</td>\n",
       "      <td>Front</td>\n",
       "      <td>04-May</td>\n",
       "      <td>Left wheel</td>\n",
       "      <td>White</td>\n",
       "      <td>4</td>\n",
       "    </tr>\n",
       "    <tr>\n",
       "      <th>6</th>\n",
       "      <td>45656768</td>\n",
       "      <td>1803.0</td>\n",
       "      <td>761</td>\n",
       "      <td>TOYOTA</td>\n",
       "      <td>Prius</td>\n",
       "      <td>2010</td>\n",
       "      <td>Hatchback</td>\n",
       "      <td>Yes</td>\n",
       "      <td>Hybrid</td>\n",
       "      <td>1.8</td>\n",
       "      <td>258909 km</td>\n",
       "      <td>4.0</td>\n",
       "      <td>Automatic</td>\n",
       "      <td>Front</td>\n",
       "      <td>04-May</td>\n",
       "      <td>Left wheel</td>\n",
       "      <td>White</td>\n",
       "      <td>12</td>\n",
       "    </tr>\n",
       "    <tr>\n",
       "      <th>7</th>\n",
       "      <td>45816158</td>\n",
       "      <td>549.0</td>\n",
       "      <td>751</td>\n",
       "      <td>HYUNDAI</td>\n",
       "      <td>Sonata</td>\n",
       "      <td>2013</td>\n",
       "      <td>Sedan</td>\n",
       "      <td>Yes</td>\n",
       "      <td>Petrol</td>\n",
       "      <td>2.4</td>\n",
       "      <td>216118 km</td>\n",
       "      <td>4.0</td>\n",
       "      <td>Automatic</td>\n",
       "      <td>Front</td>\n",
       "      <td>04-May</td>\n",
       "      <td>Left wheel</td>\n",
       "      <td>Grey</td>\n",
       "      <td>12</td>\n",
       "    </tr>\n",
       "    <tr>\n",
       "      <th>8</th>\n",
       "      <td>45641395</td>\n",
       "      <td>1098.0</td>\n",
       "      <td>394</td>\n",
       "      <td>TOYOTA</td>\n",
       "      <td>Camry</td>\n",
       "      <td>2014</td>\n",
       "      <td>Sedan</td>\n",
       "      <td>Yes</td>\n",
       "      <td>Hybrid</td>\n",
       "      <td>2.5</td>\n",
       "      <td>398069 km</td>\n",
       "      <td>4.0</td>\n",
       "      <td>Automatic</td>\n",
       "      <td>Front</td>\n",
       "      <td>04-May</td>\n",
       "      <td>Left wheel</td>\n",
       "      <td>Black</td>\n",
       "      <td>12</td>\n",
       "    </tr>\n",
       "    <tr>\n",
       "      <th>9</th>\n",
       "      <td>45756839</td>\n",
       "      <td>26657.0</td>\n",
       "      <td>-</td>\n",
       "      <td>LEXUS</td>\n",
       "      <td>RX 350</td>\n",
       "      <td>2007</td>\n",
       "      <td>Jeep</td>\n",
       "      <td>Yes</td>\n",
       "      <td>Petrol</td>\n",
       "      <td>3.5</td>\n",
       "      <td>128500 km</td>\n",
       "      <td>6.0</td>\n",
       "      <td>Automatic</td>\n",
       "      <td>4x4</td>\n",
       "      <td>04-May</td>\n",
       "      <td>Left wheel</td>\n",
       "      <td>Silver</td>\n",
       "      <td>12</td>\n",
       "    </tr>\n",
       "  </tbody>\n",
       "</table>\n",
       "</div>"
      ],
      "text/plain": [
       "         ID    Price  Levy Manufacturer     Model  Prod. year   Category  \\\n",
       "0  45654403  13328.0  1399        LEXUS    RX 450        2010       Jeep   \n",
       "1  44731507  16621.0  1018    CHEVROLET   Equinox        2011       Jeep   \n",
       "2  45774419   8467.0     -        HONDA       FIT        2006  Hatchback   \n",
       "3  45769185   3607.0   862         FORD    Escape        2011       Jeep   \n",
       "4  45809263  11726.0   446        HONDA       FIT        2014  Hatchback   \n",
       "5  45802912  39493.0   891      HYUNDAI  Santa FE        2016       Jeep   \n",
       "6  45656768   1803.0   761       TOYOTA     Prius        2010  Hatchback   \n",
       "7  45816158    549.0   751      HYUNDAI    Sonata        2013      Sedan   \n",
       "8  45641395   1098.0   394       TOYOTA     Camry        2014      Sedan   \n",
       "9  45756839  26657.0     -        LEXUS    RX 350        2007       Jeep   \n",
       "\n",
       "  Leather interior Fuel type Engine volume    Mileage  Cylinders  \\\n",
       "0              Yes    Hybrid           3.5  186005 km        6.0   \n",
       "1               No    Petrol             3  192000 km        6.0   \n",
       "2               No    Petrol           1.3  200000 km        4.0   \n",
       "3              Yes    Hybrid           2.5  168966 km        4.0   \n",
       "4              Yes    Petrol           1.3   91901 km        4.0   \n",
       "5              Yes    Diesel             2  160931 km        4.0   \n",
       "6              Yes    Hybrid           1.8  258909 km        4.0   \n",
       "7              Yes    Petrol           2.4  216118 km        4.0   \n",
       "8              Yes    Hybrid           2.5  398069 km        4.0   \n",
       "9              Yes    Petrol           3.5  128500 km        6.0   \n",
       "\n",
       "  Gear box type Drive wheels   Doors             Wheel   Color  Airbags  \n",
       "0     Automatic          4x4  04-May        Left wheel  Silver       12  \n",
       "1     Tiptronic          4x4  04-May        Left wheel   Black        8  \n",
       "2      Variator        Front  04-May  Right-hand drive   Black        2  \n",
       "3     Automatic          4x4  04-May        Left wheel   White        0  \n",
       "4     Automatic        Front  04-May        Left wheel  Silver        4  \n",
       "5     Automatic        Front  04-May        Left wheel   White        4  \n",
       "6     Automatic        Front  04-May        Left wheel   White       12  \n",
       "7     Automatic        Front  04-May        Left wheel    Grey       12  \n",
       "8     Automatic        Front  04-May        Left wheel   Black       12  \n",
       "9     Automatic          4x4  04-May        Left wheel  Silver       12  "
      ]
     },
     "execution_count": 13,
     "metadata": {},
     "output_type": "execute_result"
    }
   ],
   "source": [
    "data.head(10)"
   ]
  },
  {
   "cell_type": "markdown",
   "metadata": {},
   "source": [
    "Univarient Analysis"
   ]
  },
  {
   "cell_type": "markdown",
   "metadata": {},
   "source": [
    "Levy"
   ]
  },
  {
   "cell_type": "code",
   "execution_count": 14,
   "metadata": {},
   "outputs": [
    {
     "data": {
      "text/plain": [
       "635"
      ]
     },
     "execution_count": 14,
     "metadata": {},
     "output_type": "execute_result"
    }
   ],
   "source": [
    "data.Levy.nunique()"
   ]
  },
  {
   "cell_type": "code",
   "execution_count": 15,
   "metadata": {
    "scrolled": true
   },
   "outputs": [
    {
     "data": {
      "text/plain": [
       "-       8273\n",
       "765      708\n",
       "891      665\n",
       "640      582\n",
       "639      575\n",
       "        ... \n",
       "3518       1\n",
       "3184       1\n",
       "2235       1\n",
       "1830       1\n",
       "3061       1\n",
       "Name: Levy, Length: 635, dtype: int64"
      ]
     },
     "execution_count": 15,
     "metadata": {},
     "output_type": "execute_result"
    }
   ],
   "source": [
    "data.Levy.value_counts()"
   ]
  },
  {
   "cell_type": "code",
   "execution_count": 16,
   "metadata": {},
   "outputs": [],
   "source": [
    "data.Levy = data.Levy.replace('-', np.nan)"
   ]
  },
  {
   "cell_type": "code",
   "execution_count": 17,
   "metadata": {},
   "outputs": [],
   "source": [
    "data.Levy = pd.to_numeric(data.Levy, errors='coerce')"
   ]
  },
  {
   "cell_type": "code",
   "execution_count": 18,
   "metadata": {
    "scrolled": true
   },
   "outputs": [
    {
     "data": {
      "text/plain": [
       "8273"
      ]
     },
     "execution_count": 18,
     "metadata": {},
     "output_type": "execute_result"
    }
   ],
   "source": [
    "data.Levy.isnull().sum()"
   ]
  },
  {
   "cell_type": "code",
   "execution_count": 19,
   "metadata": {
    "scrolled": true
   },
   "outputs": [
    {
     "data": {
      "text/plain": [
       "count    19209.000000\n",
       "mean       910.160914\n",
       "std        455.889031\n",
       "min         87.000000\n",
       "25%        640.000000\n",
       "50%        781.000000\n",
       "75%       1058.000000\n",
       "max      11714.000000\n",
       "Name: Levy, dtype: float64"
      ]
     },
     "execution_count": 19,
     "metadata": {},
     "output_type": "execute_result"
    }
   ],
   "source": [
    "data.Levy.describe()"
   ]
  },
  {
   "cell_type": "code",
   "execution_count": 20,
   "metadata": {
    "scrolled": false
   },
   "outputs": [
    {
     "name": "stderr",
     "output_type": "stream",
     "text": [
      "C:\\Users\\91868\\anaconda3\\lib\\site-packages\\seaborn\\distributions.py:2551: FutureWarning: `distplot` is a deprecated function and will be removed in a future version. Please adapt your code to use either `displot` (a figure-level function with similar flexibility) or `histplot` (an axes-level function for histograms).\n",
      "  warnings.warn(msg, FutureWarning)\n"
     ]
    },
    {
     "data": {
      "text/plain": [
       "<AxesSubplot:xlabel='Levy', ylabel='Density'>"
      ]
     },
     "execution_count": 20,
     "metadata": {},
     "output_type": "execute_result"
    },
    {
     "data": {
      "image/png": "[encoded data removed]",
      "text/plain": [
       "<Figure size 432x288 with 1 Axes>"
      ]
     },
     "metadata": {
      "needs_background": "light"
     },
     "output_type": "display_data"
    }
   ],
   "source": [
    "sns.distplot(data.Levy)"
   ]
  },
  {
   "cell_type": "code",
   "execution_count": 21,
   "metadata": {},
   "outputs": [],
   "source": [
    "random_sample = data['Levy'].dropna().sample(data['Levy'].isnull().sum(), random_state=0)"
   ]
  },
  {
   "cell_type": "code",
   "execution_count": 22,
   "metadata": {},
   "outputs": [
    {
     "data": {
      "text/plain": [
       "1282     1307.0\n",
       "9727      781.0\n",
       "3309     1017.0\n",
       "3785      833.0\n",
       "8722      765.0\n",
       "          ...  \n",
       "12318     639.0\n",
       "18653     530.0\n",
       "12741    1017.0\n",
       "1568     1282.0\n",
       "2488      642.0\n",
       "Name: Levy, Length: 8273, dtype: float64"
      ]
     },
     "execution_count": 22,
     "metadata": {},
     "output_type": "execute_result"
    }
   ],
   "source": [
    "random_sample"
   ]
  },
  {
   "cell_type": "code",
   "execution_count": 23,
   "metadata": {},
   "outputs": [],
   "source": [
    "def impute_nan(data, variable, random_sample):\n",
    "    data[variable+\"_random\"]=data[variable]\n",
    "    ##It will have the random sample to fill the na\n",
    "    random_sample=data[variable].dropna().sample(data[variable].isnull().sum(),random_state=0)\n",
    "    ##pandas need to have same index in order to merge the dataset\n",
    "    random_sample.index=data[data[variable].isnull()].index\n",
    "    data.loc[data[variable].isnull(),variable+'_random']=random_sample"
   ]
  },
  {
   "cell_type": "code",
   "execution_count": 24,
   "metadata": {},
   "outputs": [],
   "source": [
    "impute_nan(data, \"Levy\", random_sample)"
   ]
  },
  {
   "cell_type": "code",
   "execution_count": 25,
   "metadata": {
    "scrolled": false
   },
   "outputs": [
    {
     "name": "stderr",
     "output_type": "stream",
     "text": [
      "C:\\Users\\91868\\anaconda3\\lib\\site-packages\\seaborn\\_decorators.py:36: FutureWarning: Pass the following variable as a keyword arg: x. From version 0.12, the only valid positional argument will be `data`, and passing other arguments without an explicit keyword will result in an error or misinterpretation.\n",
      "  warnings.warn(\n"
     ]
    },
    {
     "data": {
      "text/plain": [
       "<AxesSubplot:xlabel='Levy_random'>"
      ]
     },
     "execution_count": 25,
     "metadata": {},
     "output_type": "execute_result"
    },
    {
     "data": {
      "image/png": "[encoded data removed]",
      "text/plain": [
       "<Figure size 432x288 with 1 Axes>"
      ]
     },
     "metadata": {
      "needs_background": "light"
     },
     "output_type": "display_data"
    }
   ],
   "source": [
    "sns.boxplot(data.Levy_random)"
   ]
  },
  {
   "cell_type": "code",
   "execution_count": 26,
   "metadata": {},
   "outputs": [],
   "source": [
    "q1 = data.Levy_random.quantile(0.25)\n",
    "q3 = data.Levy_random.quantile(0.75)\n",
    "iqr = q3-q1\n",
    "low = q1-(1.5*iqr)\n",
    "high = q3+(1.5*iqr)"
   ]
  },
  {
   "cell_type": "code",
   "execution_count": 27,
   "metadata": {},
   "outputs": [
    {
     "data": {
      "text/plain": [
       "(13.0, 1685.0)"
      ]
     },
     "execution_count": 27,
     "metadata": {},
     "output_type": "execute_result"
    }
   ],
   "source": [
    "low, high"
   ]
  },
  {
   "cell_type": "code",
   "execution_count": 28,
   "metadata": {},
   "outputs": [],
   "source": [
    "data.Levy_random = np.where(data.Levy_random<low, low, data.Levy_random)\n",
    "data.Levy_random = np.where(data.Levy_random>high, high, data.Levy_random)"
   ]
  },
  {
   "cell_type": "code",
   "execution_count": 29,
   "metadata": {
    "scrolled": false
   },
   "outputs": [
    {
     "name": "stderr",
     "output_type": "stream",
     "text": [
      "C:\\Users\\91868\\anaconda3\\lib\\site-packages\\seaborn\\_decorators.py:36: FutureWarning: Pass the following variable as a keyword arg: x. From version 0.12, the only valid positional argument will be `data`, and passing other arguments without an explicit keyword will result in an error or misinterpretation.\n",
      "  warnings.warn(\n"
     ]
    },
    {
     "data": {
      "text/plain": [
       "<AxesSubplot:xlabel='Levy_random'>"
      ]
     },
     "execution_count": 29,
     "metadata": {},
     "output_type": "execute_result"
    },
    {
     "data": {
      "image/png": "[encoded data removed]",
      "text/plain": [
       "<Figure size 432x288 with 1 Axes>"
      ]
     },
     "metadata": {
      "needs_background": "light"
     },
     "output_type": "display_data"
    }
   ],
   "source": [
    "sns.boxplot(data.Levy_random)"
   ]
  },
  {
   "cell_type": "code",
   "execution_count": 30,
   "metadata": {},
   "outputs": [],
   "source": [
    "data = data.drop([\"Levy\"], axis=1)"
   ]
  },
  {
   "cell_type": "markdown",
   "metadata": {},
   "source": [
    "Manufacturer"
   ]
  },
  {
   "cell_type": "code",
   "execution_count": 31,
   "metadata": {
    "scrolled": true
   },
   "outputs": [
    {
     "data": {
      "text/plain": [
       "68"
      ]
     },
     "execution_count": 31,
     "metadata": {},
     "output_type": "execute_result"
    }
   ],
   "source": [
    "data.Manufacturer.nunique()"
   ]
  },
  {
   "cell_type": "code",
   "execution_count": 32,
   "metadata": {
    "scrolled": true
   },
   "outputs": [
    {
     "data": {
      "text/plain": [
       "HYUNDAI          5358\n",
       "TOYOTA           5177\n",
       "MERCEDES-BENZ    2983\n",
       "FORD             1592\n",
       "CHEVROLET        1520\n",
       "                 ... \n",
       "FOTON               1\n",
       "PONTIAC             1\n",
       "TATA                1\n",
       "HAVAL               1\n",
       "MG                  1\n",
       "Name: Manufacturer, Length: 68, dtype: int64"
      ]
     },
     "execution_count": 32,
     "metadata": {},
     "output_type": "execute_result"
    }
   ],
   "source": [
    "data.Manufacturer.value_counts().sort_values(ascending=False)"
   ]
  },
  {
   "cell_type": "code",
   "execution_count": 33,
   "metadata": {},
   "outputs": [
    {
     "data": {
      "text/plain": [
       "Index(['FOTON', 'TATA', 'MG', 'ROLLS-ROYCE', 'PONTIAC', 'ROVER', 'ZAZ', 'SEAT',\n",
       "       'GREATWALL', 'LANCIA', 'SATURN', 'SAAB', 'HAVAL', 'MOSKVICH', 'სხვა',\n",
       "       'ISUZU', 'ALFA ROMEO', 'MERCURY', 'TESLA', 'ASTON MARTIN', 'UAZ',\n",
       "       'DAIHATSU', 'MASERATI', 'ACURA', 'CITROEN', 'GMC', 'SCION', 'GAZ',\n",
       "       'FERRARI', 'HUMMER', 'BUICK', 'CADILLAC', 'VOLVO', 'LINCOLN', 'VAZ',\n",
       "       'CHRYSLER', 'PEUGEOT', 'SKODA', 'BENTLEY', 'RENAULT', 'INFINITI',\n",
       "       'DAEWOO', 'DODGE', 'MINI', 'FIAT', 'LAMBORGHINI', 'SUZUKI', 'JAGUAR',\n",
       "       'MAZDA', 'PORSCHE', 'LAND ROVER', 'SUBARU', 'JEEP', 'AUDI',\n",
       "       'MITSUBISHI', 'KIA', 'NISSAN', 'VOLKSWAGEN', 'SSANGYONG', 'HONDA',\n",
       "       'CHEVROLET', 'FORD', 'LEXUS', 'BMW', 'OPEL', 'MERCEDES-BENZ', 'TOYOTA',\n",
       "       'HYUNDAI'],\n",
       "      dtype='object', name='Manufacturer')"
      ]
     },
     "execution_count": 33,
     "metadata": {},
     "output_type": "execute_result"
    }
   ],
   "source": [
    "Manufacturer=pd.pivot_table(data, values = 'Price', index= 'Manufacturer', aggfunc={'Price':np.sum})\n",
    "Manufacturer=Manufacturer.sort_values(by='Price').index\n",
    "Manufacturer"
   ]
  },
  {
   "cell_type": "code",
   "execution_count": 34,
   "metadata": {},
   "outputs": [],
   "source": [
    "Manufacturer_mapping ={k:i for i, k in enumerate(Manufacturer, 0)}\n",
    "data['Manufacturer'] = data[\"Manufacturer\"].map(Manufacturer_mapping)"
   ]
  },
  {
   "cell_type": "code",
   "execution_count": 35,
   "metadata": {},
   "outputs": [],
   "source": [
    "#top_10_Manufacturer = [x for x in data.Manufacturer.value_counts().sort_values(ascending=False).head(10).index]\n",
    "#top_10_Manufacturer"
   ]
  },
  {
   "cell_type": "code",
   "execution_count": 36,
   "metadata": {},
   "outputs": [],
   "source": [
    "def one_hot_top_x(df, variable, top_x_labels):\n",
    "    for label in top_x_labels:\n",
    "        df[variable+'_'+label] = np.where(data[variable]==label, 1,0)"
   ]
  },
  {
   "cell_type": "code",
   "execution_count": 37,
   "metadata": {},
   "outputs": [],
   "source": [
    "#one_hot_top_x(data, 'Manufacturer' , top_10_Manufacturer)"
   ]
  },
  {
   "cell_type": "markdown",
   "metadata": {},
   "source": [
    "Model"
   ]
  },
  {
   "cell_type": "code",
   "execution_count": 38,
   "metadata": {
    "scrolled": true
   },
   "outputs": [
    {
     "data": {
      "text/plain": [
       "1981"
      ]
     },
     "execution_count": 38,
     "metadata": {},
     "output_type": "execute_result"
    }
   ],
   "source": [
    "data.Model.nunique()"
   ]
  },
  {
   "cell_type": "code",
   "execution_count": 39,
   "metadata": {
    "scrolled": true
   },
   "outputs": [
    {
     "data": {
      "text/plain": [
       "Sonata      1557\n",
       "Prius       1531\n",
       "Camry       1328\n",
       "Elantra     1300\n",
       "E 350        800\n",
       "Santa FE     760\n",
       "H1           646\n",
       "FIT          609\n",
       "Tucson       588\n",
       "X5           487\n",
       "Aqua         443\n",
       "Cruze        436\n",
       "Fusion       422\n",
       "GX 460       349\n",
       "Optima       332\n",
       "Name: Model, dtype: int64"
      ]
     },
     "execution_count": 39,
     "metadata": {},
     "output_type": "execute_result"
    }
   ],
   "source": [
    "data.Model.value_counts().sort_values(ascending=False).head(15)"
   ]
  },
  {
   "cell_type": "code",
   "execution_count": 40,
   "metadata": {},
   "outputs": [
    {
     "data": {
      "text/plain": [
       "['Sonata',\n",
       " 'Prius',\n",
       " 'Camry',\n",
       " 'Elantra',\n",
       " 'E 350',\n",
       " 'Santa FE',\n",
       " 'H1',\n",
       " 'FIT',\n",
       " 'Tucson',\n",
       " 'X5']"
      ]
     },
     "execution_count": 40,
     "metadata": {},
     "output_type": "execute_result"
    }
   ],
   "source": [
    "top_10_Model = [x for x in data.Model.value_counts().sort_values(ascending=False).head(10).index]\n",
    "top_10_Model"
   ]
  },
  {
   "cell_type": "code",
   "execution_count": 41,
   "metadata": {},
   "outputs": [
    {
     "data": {
      "text/html": [
       "<div>\n",
       "<style scoped>\n",
       "    .dataframe tbody tr th:only-of-type {\n",
       "        vertical-align: middle;\n",
       "    }\n",
       "\n",
       "    .dataframe tbody tr th {\n",
       "        vertical-align: top;\n",
       "    }\n",
       "\n",
       "    .dataframe thead th {\n",
       "        text-align: right;\n",
       "    }\n",
       "</style>\n",
       "<table border=\"1\" class=\"dataframe\">\n",
       "  <thead>\n",
       "    <tr style=\"text-align: right;\">\n",
       "      <th></th>\n",
       "      <th>ID</th>\n",
       "      <th>Price</th>\n",
       "      <th>Manufacturer</th>\n",
       "      <th>Model</th>\n",
       "      <th>Prod. year</th>\n",
       "      <th>Category</th>\n",
       "      <th>Leather interior</th>\n",
       "      <th>Fuel type</th>\n",
       "      <th>Engine volume</th>\n",
       "      <th>Mileage</th>\n",
       "      <th>...</th>\n",
       "      <th>Model_Sonata</th>\n",
       "      <th>Model_Prius</th>\n",
       "      <th>Model_Camry</th>\n",
       "      <th>Model_Elantra</th>\n",
       "      <th>Model_E 350</th>\n",
       "      <th>Model_Santa FE</th>\n",
       "      <th>Model_H1</th>\n",
       "      <th>Model_FIT</th>\n",
       "      <th>Model_Tucson</th>\n",
       "      <th>Model_X5</th>\n",
       "    </tr>\n",
       "  </thead>\n",
       "  <tbody>\n",
       "    <tr>\n",
       "      <th>0</th>\n",
       "      <td>45654403</td>\n",
       "      <td>13328.0</td>\n",
       "      <td>62</td>\n",
       "      <td>RX 450</td>\n",
       "      <td>2010</td>\n",
       "      <td>Jeep</td>\n",
       "      <td>Yes</td>\n",
       "      <td>Hybrid</td>\n",
       "      <td>3.5</td>\n",
       "      <td>186005 km</td>\n",
       "      <td>...</td>\n",
       "      <td>0</td>\n",
       "      <td>0</td>\n",
       "      <td>0</td>\n",
       "      <td>0</td>\n",
       "      <td>0</td>\n",
       "      <td>0</td>\n",
       "      <td>0</td>\n",
       "      <td>0</td>\n",
       "      <td>0</td>\n",
       "      <td>0</td>\n",
       "    </tr>\n",
       "    <tr>\n",
       "      <th>1</th>\n",
       "      <td>44731507</td>\n",
       "      <td>16621.0</td>\n",
       "      <td>60</td>\n",
       "      <td>Equinox</td>\n",
       "      <td>2011</td>\n",
       "      <td>Jeep</td>\n",
       "      <td>No</td>\n",
       "      <td>Petrol</td>\n",
       "      <td>3</td>\n",
       "      <td>192000 km</td>\n",
       "      <td>...</td>\n",
       "      <td>0</td>\n",
       "      <td>0</td>\n",
       "      <td>0</td>\n",
       "      <td>0</td>\n",
       "      <td>0</td>\n",
       "      <td>0</td>\n",
       "      <td>0</td>\n",
       "      <td>0</td>\n",
       "      <td>0</td>\n",
       "      <td>0</td>\n",
       "    </tr>\n",
       "    <tr>\n",
       "      <th>2</th>\n",
       "      <td>45774419</td>\n",
       "      <td>8467.0</td>\n",
       "      <td>59</td>\n",
       "      <td>FIT</td>\n",
       "      <td>2006</td>\n",
       "      <td>Hatchback</td>\n",
       "      <td>No</td>\n",
       "      <td>Petrol</td>\n",
       "      <td>1.3</td>\n",
       "      <td>200000 km</td>\n",
       "      <td>...</td>\n",
       "      <td>0</td>\n",
       "      <td>0</td>\n",
       "      <td>0</td>\n",
       "      <td>0</td>\n",
       "      <td>0</td>\n",
       "      <td>0</td>\n",
       "      <td>0</td>\n",
       "      <td>1</td>\n",
       "      <td>0</td>\n",
       "      <td>0</td>\n",
       "    </tr>\n",
       "    <tr>\n",
       "      <th>3</th>\n",
       "      <td>45769185</td>\n",
       "      <td>3607.0</td>\n",
       "      <td>61</td>\n",
       "      <td>Escape</td>\n",
       "      <td>2011</td>\n",
       "      <td>Jeep</td>\n",
       "      <td>Yes</td>\n",
       "      <td>Hybrid</td>\n",
       "      <td>2.5</td>\n",
       "      <td>168966 km</td>\n",
       "      <td>...</td>\n",
       "      <td>0</td>\n",
       "      <td>0</td>\n",
       "      <td>0</td>\n",
       "      <td>0</td>\n",
       "      <td>0</td>\n",
       "      <td>0</td>\n",
       "      <td>0</td>\n",
       "      <td>0</td>\n",
       "      <td>0</td>\n",
       "      <td>0</td>\n",
       "    </tr>\n",
       "    <tr>\n",
       "      <th>4</th>\n",
       "      <td>45809263</td>\n",
       "      <td>11726.0</td>\n",
       "      <td>59</td>\n",
       "      <td>FIT</td>\n",
       "      <td>2014</td>\n",
       "      <td>Hatchback</td>\n",
       "      <td>Yes</td>\n",
       "      <td>Petrol</td>\n",
       "      <td>1.3</td>\n",
       "      <td>91901 km</td>\n",
       "      <td>...</td>\n",
       "      <td>0</td>\n",
       "      <td>0</td>\n",
       "      <td>0</td>\n",
       "      <td>0</td>\n",
       "      <td>0</td>\n",
       "      <td>0</td>\n",
       "      <td>0</td>\n",
       "      <td>1</td>\n",
       "      <td>0</td>\n",
       "      <td>0</td>\n",
       "    </tr>\n",
       "  </tbody>\n",
       "</table>\n",
       "<p>5 rows × 28 columns</p>\n",
       "</div>"
      ],
      "text/plain": [
       "         ID    Price  Manufacturer    Model  Prod. year   Category  \\\n",
       "0  45654403  13328.0            62   RX 450        2010       Jeep   \n",
       "1  44731507  16621.0            60  Equinox        2011       Jeep   \n",
       "2  45774419   8467.0            59      FIT        2006  Hatchback   \n",
       "3  45769185   3607.0            61   Escape        2011       Jeep   \n",
       "4  45809263  11726.0            59      FIT        2014  Hatchback   \n",
       "\n",
       "  Leather interior Fuel type Engine volume    Mileage  ...  Model_Sonata  \\\n",
       "0              Yes    Hybrid           3.5  186005 km  ...             0   \n",
       "1               No    Petrol             3  192000 km  ...             0   \n",
       "2               No    Petrol           1.3  200000 km  ...             0   \n",
       "3              Yes    Hybrid           2.5  168966 km  ...             0   \n",
       "4              Yes    Petrol           1.3   91901 km  ...             0   \n",
       "\n",
       "  Model_Prius Model_Camry Model_Elantra Model_E 350 Model_Santa FE  Model_H1  \\\n",
       "0           0           0             0           0              0         0   \n",
       "1           0           0             0           0              0         0   \n",
       "2           0           0             0           0              0         0   \n",
       "3           0           0             0           0              0         0   \n",
       "4           0           0             0           0              0         0   \n",
       "\n",
       "   Model_FIT  Model_Tucson  Model_X5  \n",
       "0          0             0         0  \n",
       "1          0             0         0  \n",
       "2          1             0         0  \n",
       "3          0             0         0  \n",
       "4          1             0         0  \n",
       "\n",
       "[5 rows x 28 columns]"
      ]
     },
     "execution_count": 41,
     "metadata": {},
     "output_type": "execute_result"
    }
   ],
   "source": [
    "one_hot_top_x(data, 'Model', top_10_Model)\n",
    "data.head()"
   ]
  },
  {
   "cell_type": "code",
   "execution_count": 42,
   "metadata": {},
   "outputs": [],
   "source": [
    "data =data.drop(['Model'], axis=1)"
   ]
  },
  {
   "cell_type": "markdown",
   "metadata": {},
   "source": [
    "Prod. year"
   ]
  },
  {
   "cell_type": "code",
   "execution_count": 43,
   "metadata": {},
   "outputs": [
    {
     "data": {
      "text/plain": [
       "59"
      ]
     },
     "execution_count": 43,
     "metadata": {},
     "output_type": "execute_result"
    }
   ],
   "source": [
    "data[\"Prod. year\"].nunique()"
   ]
  },
  {
   "cell_type": "code",
   "execution_count": 44,
   "metadata": {
    "scrolled": false
   },
   "outputs": [
    {
     "data": {
      "text/plain": [
       "{2012: 3090,\n",
       " 2014: 3013,\n",
       " 2013: 2850,\n",
       " 2011: 2311,\n",
       " 2015: 2234,\n",
       " 2016: 2129,\n",
       " 2010: 2099,\n",
       " 2017: 1343,\n",
       " 2008: 1059,\n",
       " 2009: 850,\n",
       " 2018: 680,\n",
       " 2007: 669,\n",
       " 2005: 575,\n",
       " 2003: 526,\n",
       " 2004: 521,\n",
       " 2006: 455,\n",
       " 2019: 424,\n",
       " 2002: 417,\n",
       " 2000: 385,\n",
       " 2001: 365,\n",
       " 1999: 309,\n",
       " 1998: 301,\n",
       " 1997: 210,\n",
       " 1996: 165,\n",
       " 1995: 136,\n",
       " 2020: 78,\n",
       " 1994: 66,\n",
       " 1993: 44,\n",
       " 1992: 42,\n",
       " 1990: 26,\n",
       " 1988: 17,\n",
       " 1991: 16,\n",
       " 1987: 10,\n",
       " 1989: 10,\n",
       " 1986: 7,\n",
       " 1984: 6,\n",
       " 1985: 5,\n",
       " 1953: 4,\n",
       " 1983: 3,\n",
       " 1974: 3,\n",
       " 1939: 3,\n",
       " 1965: 2,\n",
       " 1964: 2,\n",
       " 1977: 2,\n",
       " 1981: 2,\n",
       " 1980: 2,\n",
       " 1978: 2,\n",
       " 1943: 2,\n",
       " 1968: 2,\n",
       " 1947: 1,\n",
       " 1956: 1,\n",
       " 1982: 1,\n",
       " 1979: 1,\n",
       " 1961: 1,\n",
       " 1970: 1,\n",
       " 1957: 1,\n",
       " 1973: 1,\n",
       " 1976: 1,\n",
       " 1966: 1}"
      ]
     },
     "execution_count": 44,
     "metadata": {},
     "output_type": "execute_result"
    }
   ],
   "source": [
    "Year_encoding = data[\"Prod. year\"].value_counts().to_dict()\n",
    "Year_encoding"
   ]
  },
  {
   "cell_type": "code",
   "execution_count": 45,
   "metadata": {},
   "outputs": [],
   "source": [
    "data[\"Prod. year\"] = 2021-data[\"Prod. year\"]"
   ]
  },
  {
   "cell_type": "markdown",
   "metadata": {},
   "source": [
    "Category"
   ]
  },
  {
   "cell_type": "code",
   "execution_count": 46,
   "metadata": {
    "scrolled": true
   },
   "outputs": [
    {
     "data": {
      "text/plain": [
       "{'Sedan': 12534,\n",
       " 'Jeep': 7821,\n",
       " 'Hatchback': 4038,\n",
       " 'Minivan': 934,\n",
       " 'Coupe': 746,\n",
       " 'Universal': 523,\n",
       " 'Microbus': 428,\n",
       " 'Goods wagon': 310,\n",
       " 'Pickup': 72,\n",
       " 'Cabriolet': 61,\n",
       " 'Limousine': 15}"
      ]
     },
     "execution_count": 46,
     "metadata": {},
     "output_type": "execute_result"
    }
   ],
   "source": [
    " data.Category.value_counts().to_dict()\n"
   ]
  },
  {
   "cell_type": "code",
   "execution_count": 47,
   "metadata": {
    "scrolled": true
   },
   "outputs": [
    {
     "data": {
      "text/plain": [
       "Index(['Hatchback', 'Limousine', 'Sedan', 'Microbus', 'Minivan', 'Coupe',\n",
       "       'Jeep', 'Cabriolet', 'Universal', 'Pickup', 'Goods wagon'],\n",
       "      dtype='object', name='Category')"
      ]
     },
     "execution_count": 47,
     "metadata": {},
     "output_type": "execute_result"
    }
   ],
   "source": [
    "Category_table = pd.pivot_table(data, values = 'Price', index= 'Category', aggfunc={'Price':np.mean})\n",
    "Category_table=Category_table.sort_values(by='Price').index\n",
    "Category_table"
   ]
  },
  {
   "cell_type": "code",
   "execution_count": 48,
   "metadata": {},
   "outputs": [],
   "source": [
    "mapping = {k:i for i, k in enumerate(Category_table, 0)}"
   ]
  },
  {
   "cell_type": "code",
   "execution_count": 49,
   "metadata": {},
   "outputs": [],
   "source": [
    "data['Category'] = data['Category'].map(mapping)"
   ]
  },
  {
   "cell_type": "code",
   "execution_count": 50,
   "metadata": {},
   "outputs": [
    {
     "data": {
      "text/plain": [
       "0       6\n",
       "1       6\n",
       "2       0\n",
       "3       6\n",
       "4       0\n",
       "       ..\n",
       "8240    8\n",
       "8241    2\n",
       "8242    6\n",
       "8243    0\n",
       "8244    0\n",
       "Name: Category, Length: 27482, dtype: int64"
      ]
     },
     "execution_count": 50,
     "metadata": {},
     "output_type": "execute_result"
    }
   ],
   "source": [
    "data['Category']"
   ]
  },
  {
   "cell_type": "markdown",
   "metadata": {},
   "source": [
    "Leather interior"
   ]
  },
  {
   "cell_type": "code",
   "execution_count": 51,
   "metadata": {
    "scrolled": false
   },
   "outputs": [
    {
     "data": {
      "text/plain": [
       "Yes    19926\n",
       "No      7556\n",
       "Name: Leather interior, dtype: int64"
      ]
     },
     "execution_count": 51,
     "metadata": {},
     "output_type": "execute_result"
    }
   ],
   "source": [
    "data['Leather interior'].value_counts()"
   ]
  },
  {
   "cell_type": "markdown",
   "metadata": {},
   "source": [
    "Fuel type"
   ]
  },
  {
   "cell_type": "code",
   "execution_count": 52,
   "metadata": {
    "scrolled": false
   },
   "outputs": [
    {
     "data": {
      "text/plain": [
       "Index(['Petrol', 'Diesel', 'Hybrid', 'LPG', 'CNG', 'Plug-in Hybrid',\n",
       "       'Hydrogen'],\n",
       "      dtype='object')"
      ]
     },
     "execution_count": 52,
     "metadata": {},
     "output_type": "execute_result"
    }
   ],
   "source": [
    "data['Fuel type'].value_counts().index\n"
   ]
  },
  {
   "cell_type": "code",
   "execution_count": 53,
   "metadata": {
    "scrolled": false
   },
   "outputs": [
    {
     "data": {
      "text/plain": [
       "Index(['CNG', 'Hybrid', 'LPG', 'Petrol', 'Hydrogen', 'Plug-in Hybrid',\n",
       "       'Diesel'],\n",
       "      dtype='object', name='Fuel type')"
      ]
     },
     "execution_count": 53,
     "metadata": {},
     "output_type": "execute_result"
    }
   ],
   "source": [
    "Fuel_type = pd.pivot_table(data, values = 'Price', index= 'Fuel type', aggfunc={'Price':np.mean})\n",
    "Fuel_type = Fuel_type.sort_values(by='Price').index\n",
    "Fuel_type"
   ]
  },
  {
   "cell_type": "code",
   "execution_count": 54,
   "metadata": {},
   "outputs": [],
   "source": [
    "Fuel_mapping = {k:i for i, k in enumerate(Fuel_type, 0)}"
   ]
  },
  {
   "cell_type": "code",
   "execution_count": 55,
   "metadata": {},
   "outputs": [],
   "source": [
    "data['Fuel type'] =data['Fuel type'].map(Fuel_mapping)"
   ]
  },
  {
   "cell_type": "markdown",
   "metadata": {},
   "source": [
    "Engine volume"
   ]
  },
  {
   "cell_type": "code",
   "execution_count": 56,
   "metadata": {
    "scrolled": false
   },
   "outputs": [
    {
     "data": {
      "text/plain": [
       "2            5587\n",
       "2.5          3200\n",
       "1.8          2526\n",
       "1.6          2063\n",
       "1.5          1867\n",
       "             ... \n",
       "0.2 Turbo       1\n",
       "6.8             1\n",
       "5.4 Turbo       1\n",
       "7.3             1\n",
       "6.6             1\n",
       "Name: Engine volume, Length: 112, dtype: int64"
      ]
     },
     "execution_count": 56,
     "metadata": {},
     "output_type": "execute_result"
    }
   ],
   "source": [
    "data['Engine volume'].value_counts()"
   ]
  },
  {
   "cell_type": "code",
   "execution_count": 57,
   "metadata": {},
   "outputs": [
    {
     "data": {
      "text/plain": [
       "array(['3.5', '3', '1.3', '2.5', '2', '1.8', '2.4', '4', '1.6', '3.3',\n",
       "       '2.0 Turbo', '2.2 Turbo', '4.7', '1.5', '4.4', '3.0 Turbo',\n",
       "       '1.4 Turbo', '3.6', '2.3', '1.5 Turbo', '1.6 Turbo', '2.2',\n",
       "       '2.3 Turbo', '1.4', '5.5', '2.8 Turbo', '3.2', '3.8', '4.6', '1.2',\n",
       "       '5', '1.7', '2.9', '0.5', '1.8 Turbo', '2.4 Turbo', '3.5 Turbo',\n",
       "       '1.9', '2.7', '4.8', '5.3', '0.4', '2.8', '3.2 Turbo', '1.1',\n",
       "       '2.1', '0.7', '5.4', '1.3 Turbo', '3.7', '1', '2.5 Turbo', '2.6',\n",
       "       '1.9 Turbo', '4.4 Turbo', '4.7 Turbo', '0.8', '0.2 Turbo', '5.7',\n",
       "       '4.8 Turbo', '4.6 Turbo', '6.7', '6.2', '1.2 Turbo', '3.4',\n",
       "       '1.7 Turbo', '6.3 Turbo', '2.7 Turbo', '4.3', '4.2', '2.9 Turbo',\n",
       "       '0', '4.0 Turbo', '20', '3.6 Turbo', '0.3', '3.7 Turbo', '5.9',\n",
       "       '5.5 Turbo', '0.2', '2.1 Turbo', '5.6', '6', '0.7 Turbo',\n",
       "       '0.6 Turbo', '6.8', '4.5', '0.6', '7.3', '0.1', '1.0 Turbo', '6.3',\n",
       "       '4.5 Turbo', '0.8 Turbo', '4.2 Turbo', '3.1', '5.0 Turbo', '6.4',\n",
       "       '3.9', '5.7 Turbo', '0.9', '0.4 Turbo', '5.4 Turbo', '0.3 Turbo',\n",
       "       '5.2', '5.8', '1.1 Turbo', '6.6', '6.1', '10.8', '6.0 Turbo',\n",
       "       '2.6 Turbo'], dtype=object)"
      ]
     },
     "execution_count": 57,
     "metadata": {},
     "output_type": "execute_result"
    }
   ],
   "source": [
    "data['Engine volume'].unique()"
   ]
  },
  {
   "cell_type": "code",
   "execution_count": 58,
   "metadata": {},
   "outputs": [],
   "source": [
    "data['Engine_Type']= data['Engine volume'].replace(['2.0 Turbo', '2.2 Turbo', '3.0 Turbo', '1.4 Turbo','1.5 Turbo', '1.6 Turbo',\n",
    "                                                  '2.3 Turbo','2.8 Turbo','1.8 Turbo', '2.4 Turbo', '3.5 Turbo','3.2 Turbo',\n",
    "                                                  '1.3 Turbo','2.5 Turbo', '1.9 Turbo', '4.4 Turbo','4.7 Turbo','0.2 Turbo',\n",
    "                                                  '4.8 Turbo', '4.6 Turbo','1.2 Turbo','1.7 Turbo', '6.3 Turbo', '2.7 Turbo','2.9 Turbo',\n",
    "                                                  '4.0 Turbo','3.6 Turbo', '3.7 Turbo','5.5 Turbo', '2.1 Turbo', '0.7 Turbo',\n",
    "                                                   '0.6 Turbo','1.0 Turbo','4.5 Turbo', '0.8 Turbo', '4.2 Turbo','5.0 Turbo',\n",
    "                                                  '5.7 Turbo', '0.4 Turbo', '5.4 Turbo', '0.3 Turbo','1.1 Turbo','6.0 Turbo','2.6 Turbo'], 'Turbo')"
   ]
  },
  {
   "cell_type": "code",
   "execution_count": 59,
   "metadata": {},
   "outputs": [],
   "source": [
    "data['Engine_Type']= data['Engine_Type'].replace(['3.5', '3', '1.3', '2.5', '2', '1.8', '2.4', '4', '1.6', '3.3',\n",
    "                                                  '4.7', '1.5', '4.4','3.6', '2.3','2.2', '1.4', '5.5','3.2', '3.8', '4.6', '1.2',\n",
    "                                                  '5', '1.7', '2.9', '0.5','1.9', '2.7', '4.8', '5.3', '0.4', '2.8','1.1',\n",
    "                                                  '2.1', '0.7', '5.4','3.7', '1','2.6','0.8','5.7','6.7', '6.2','3.4','4.3', '4.2',\n",
    "                                                  '0','20','0.3','5.9','0.2','5.6', '6','6.8', '4.5', '0.6', '7.3', '0.1', '6.3',\n",
    "                                                  '6.4','3.9','0.9','5.2', '5.8', '6.6', '6.1', '10.8','3.1'], 'Non-Turbo')"
   ]
  },
  {
   "cell_type": "code",
   "execution_count": 60,
   "metadata": {},
   "outputs": [
    {
     "data": {
      "text/plain": [
       "Non-Turbo    24723\n",
       "Turbo         2759\n",
       "Name: Engine_Type, dtype: int64"
      ]
     },
     "execution_count": 60,
     "metadata": {},
     "output_type": "execute_result"
    }
   ],
   "source": [
    "data['Engine_Type'].value_counts()"
   ]
  },
  {
   "cell_type": "code",
   "execution_count": 61,
   "metadata": {},
   "outputs": [],
   "source": [
    "data['Engine volume'] = data['Engine volume'].str.replace('Turbo','')"
   ]
  },
  {
   "cell_type": "code",
   "execution_count": 62,
   "metadata": {},
   "outputs": [],
   "source": [
    "data['Engine volume'] = pd.to_numeric(data['Engine volume'], errors='coerce')"
   ]
  },
  {
   "cell_type": "code",
   "execution_count": 63,
   "metadata": {
    "scrolled": true
   },
   "outputs": [
    {
     "data": {
      "text/plain": [
       "count    27482.000000\n",
       "mean         2.313107\n",
       "std          0.881283\n",
       "min          0.000000\n",
       "25%          1.800000\n",
       "50%          2.000000\n",
       "75%          2.500000\n",
       "max         20.000000\n",
       "Name: Engine volume, dtype: float64"
      ]
     },
     "execution_count": 63,
     "metadata": {},
     "output_type": "execute_result"
    }
   ],
   "source": [
    "data['Engine volume'].describe()"
   ]
  },
  {
   "cell_type": "code",
   "execution_count": 64,
   "metadata": {},
   "outputs": [],
   "source": [
    "data['Engine volume'] = data['Engine volume'].replace(0, np.nan)"
   ]
  },
  {
   "cell_type": "code",
   "execution_count": 65,
   "metadata": {
    "scrolled": true
   },
   "outputs": [
    {
     "data": {
      "text/plain": [
       "15"
      ]
     },
     "execution_count": 65,
     "metadata": {},
     "output_type": "execute_result"
    }
   ],
   "source": [
    "data['Engine volume'].isnull().sum()"
   ]
  },
  {
   "cell_type": "code",
   "execution_count": 66,
   "metadata": {},
   "outputs": [
    {
     "data": {
      "text/plain": [
       "17612    2.4\n",
       "9493     2.0\n",
       "3742     2.4\n",
       "6413     1.2\n",
       "17458    2.4\n",
       "4313     1.8\n",
       "2743     2.0\n",
       "5705     2.0\n",
       "5872     2.0\n",
       "5145     2.0\n",
       "2719     2.4\n",
       "13231    1.5\n",
       "16303    1.6\n",
       "13572    2.2\n",
       "15378    2.0\n",
       "Name: Engine volume, dtype: float64"
      ]
     },
     "execution_count": 66,
     "metadata": {},
     "output_type": "execute_result"
    }
   ],
   "source": [
    "random_sample_Engine = data[\"Engine volume\"].dropna().sample(data['Engine volume'].isnull().sum(), random_state=0)\n",
    "random_sample_Engine"
   ]
  },
  {
   "cell_type": "code",
   "execution_count": 67,
   "metadata": {},
   "outputs": [],
   "source": [
    "impute_nan(data, \"Engine volume\", random_sample_Engine)"
   ]
  },
  {
   "cell_type": "code",
   "execution_count": 68,
   "metadata": {
    "scrolled": true
   },
   "outputs": [
    {
     "data": {
      "text/plain": [
       "count    27482.000000\n",
       "mean         2.314195\n",
       "std          0.879692\n",
       "min          0.100000\n",
       "25%          1.800000\n",
       "50%          2.000000\n",
       "75%          2.500000\n",
       "max         20.000000\n",
       "Name: Engine volume_random, dtype: float64"
      ]
     },
     "execution_count": 68,
     "metadata": {},
     "output_type": "execute_result"
    }
   ],
   "source": [
    "data['Engine volume_random'].describe()"
   ]
  },
  {
   "cell_type": "code",
   "execution_count": 69,
   "metadata": {},
   "outputs": [],
   "source": [
    "data = data.drop([\"Engine volume\"], axis=1)"
   ]
  },
  {
   "cell_type": "markdown",
   "metadata": {},
   "source": [
    "Mileage"
   ]
  },
  {
   "cell_type": "code",
   "execution_count": 70,
   "metadata": {},
   "outputs": [
    {
     "data": {
      "text/plain": [
       "0       186005 km\n",
       "1       192000 km\n",
       "2       200000 km\n",
       "3       168966 km\n",
       "4        91901 km\n",
       "          ...    \n",
       "8240    164000 km\n",
       "8241    156000 km\n",
       "8242    102907 km\n",
       "8243      3000 km\n",
       "8244    321269 km\n",
       "Name: Mileage, Length: 27482, dtype: object"
      ]
     },
     "execution_count": 70,
     "metadata": {},
     "output_type": "execute_result"
    }
   ],
   "source": [
    "data['Mileage']"
   ]
  },
  {
   "cell_type": "code",
   "execution_count": 71,
   "metadata": {
    "scrolled": true
   },
   "outputs": [
    {
     "data": {
      "text/plain": [
       "0 km         1013\n",
       "200000 km     255\n",
       "150000 km     221\n",
       "180000 km     177\n",
       "160000 km     170\n",
       "             ... \n",
       "138720 km       1\n",
       "152143 km       1\n",
       "46721 km        1\n",
       "105645 km       1\n",
       "55765 km        1\n",
       "Name: Mileage, Length: 9977, dtype: int64"
      ]
     },
     "execution_count": 71,
     "metadata": {},
     "output_type": "execute_result"
    }
   ],
   "source": [
    "data['Mileage'].value_counts()"
   ]
  },
  {
   "cell_type": "code",
   "execution_count": 72,
   "metadata": {},
   "outputs": [],
   "source": [
    "data['Mileage']=data['Mileage'].str.strip(\" km\")"
   ]
  },
  {
   "cell_type": "code",
   "execution_count": 73,
   "metadata": {},
   "outputs": [
    {
     "data": {
      "text/plain": [
       "0         1013\n",
       "200000     255\n",
       "150000     221\n",
       "180000     177\n",
       "160000     170\n",
       "          ... \n",
       "164861       1\n",
       "39712        1\n",
       "78436        1\n",
       "71172        1\n",
       "171107       1\n",
       "Name: Mileage, Length: 9977, dtype: int64"
      ]
     },
     "execution_count": 73,
     "metadata": {},
     "output_type": "execute_result"
    }
   ],
   "source": [
    "data['Mileage'].value_counts()"
   ]
  },
  {
   "cell_type": "code",
   "execution_count": 74,
   "metadata": {},
   "outputs": [],
   "source": [
    "data['Mileage'] = pd.to_numeric(data['Mileage'], errors='coerce')"
   ]
  },
  {
   "cell_type": "code",
   "execution_count": 75,
   "metadata": {},
   "outputs": [],
   "source": [
    "data['Mileage'] = data['Mileage'].replace(0, np.nan )"
   ]
  },
  {
   "cell_type": "code",
   "execution_count": 76,
   "metadata": {
    "scrolled": false
   },
   "outputs": [
    {
     "data": {
      "text/plain": [
       "1013"
      ]
     },
     "execution_count": 76,
     "metadata": {},
     "output_type": "execute_result"
    }
   ],
   "source": [
    "data['Mileage'].isnull().sum()"
   ]
  },
  {
   "cell_type": "code",
   "execution_count": 77,
   "metadata": {},
   "outputs": [
    {
     "data": {
      "text/plain": [
       "6835      60299.0\n",
       "7099      82067.0\n",
       "17558    126000.0\n",
       "11323     84000.0\n",
       "6278     150000.0\n",
       "           ...   \n",
       "4626     186178.0\n",
       "8396      25758.0\n",
       "3183       6000.0\n",
       "6413     113000.0\n",
       "6998     112387.0\n",
       "Name: Mileage, Length: 1013, dtype: float64"
      ]
     },
     "execution_count": 77,
     "metadata": {},
     "output_type": "execute_result"
    }
   ],
   "source": [
    "random_sample_Mileage = data[\"Mileage\"].dropna().sample(data['Mileage'].isnull().sum(), random_state=0)\n",
    "random_sample_Mileage"
   ]
  },
  {
   "cell_type": "code",
   "execution_count": 78,
   "metadata": {},
   "outputs": [],
   "source": [
    "#data['Mileage'] = data['Mileage'].fillna(data['Mileage'].median())"
   ]
  },
  {
   "cell_type": "code",
   "execution_count": 79,
   "metadata": {},
   "outputs": [],
   "source": [
    "impute_nan(data, \"Mileage\", random_sample_Mileage)"
   ]
  },
  {
   "cell_type": "code",
   "execution_count": 80,
   "metadata": {},
   "outputs": [
    {
     "data": {
      "text/plain": [
       "(-95356.375, 365506.625)"
      ]
     },
     "execution_count": 80,
     "metadata": {},
     "output_type": "execute_result"
    }
   ],
   "source": [
    "q1m = data['Mileage_random'].quantile(0.25)\n",
    "q3m = data['Mileage_random'].quantile(0.75)\n",
    "iqrm = q3m-q1m\n",
    "low_m = q1m - 1.5*iqrm\n",
    "high_m = q3m+1.5*iqrm\n",
    "low_m, high_m"
   ]
  },
  {
   "cell_type": "code",
   "execution_count": 81,
   "metadata": {},
   "outputs": [],
   "source": [
    "data['Mileage_random'] = np.where(data['Mileage_random']<low_m, low_m, data['Mileage_random'])\n",
    "data['Mileage_random'] = np.where(data['Mileage_random']>high_m, high_m, data['Mileage_random'])"
   ]
  },
  {
   "cell_type": "code",
   "execution_count": 82,
   "metadata": {},
   "outputs": [],
   "source": [
    "data=data.drop(['Mileage'], axis=1)"
   ]
  },
  {
   "cell_type": "markdown",
   "metadata": {},
   "source": [
    "Cylinders"
   ]
  },
  {
   "cell_type": "code",
   "execution_count": 83,
   "metadata": {
    "scrolled": false
   },
   "outputs": [
    {
     "data": {
      "text/plain": [
       "4.0      20482\n",
       "6.0       4935\n",
       "8.0       1465\n",
       "5.0        237\n",
       "3.0        161\n",
       "2.0         59\n",
       "12.0        54\n",
       "1.0         52\n",
       "10.0        18\n",
       "7.0          8\n",
       "16.0         5\n",
       "9.0          2\n",
       "11.0         1\n",
       "127.0        1\n",
       "14.0         1\n",
       "15.0         1\n",
       "Name: Cylinders, dtype: int64"
      ]
     },
     "execution_count": 83,
     "metadata": {},
     "output_type": "execute_result"
    }
   ],
   "source": [
    "data['Cylinders'].value_counts()"
   ]
  },
  {
   "cell_type": "code",
   "execution_count": 84,
   "metadata": {},
   "outputs": [
    {
     "data": {
      "text/html": [
       "<div>\n",
       "<style scoped>\n",
       "    .dataframe tbody tr th:only-of-type {\n",
       "        vertical-align: middle;\n",
       "    }\n",
       "\n",
       "    .dataframe tbody tr th {\n",
       "        vertical-align: top;\n",
       "    }\n",
       "\n",
       "    .dataframe thead th {\n",
       "        text-align: right;\n",
       "    }\n",
       "</style>\n",
       "<table border=\"1\" class=\"dataframe\">\n",
       "  <thead>\n",
       "    <tr style=\"text-align: right;\">\n",
       "      <th></th>\n",
       "      <th>Price</th>\n",
       "    </tr>\n",
       "    <tr>\n",
       "      <th>Cylinders</th>\n",
       "      <th></th>\n",
       "    </tr>\n",
       "  </thead>\n",
       "  <tbody>\n",
       "    <tr>\n",
       "      <th>1.0</th>\n",
       "      <td>622254.0</td>\n",
       "    </tr>\n",
       "    <tr>\n",
       "      <th>2.0</th>\n",
       "      <td>435053.0</td>\n",
       "    </tr>\n",
       "    <tr>\n",
       "      <th>3.0</th>\n",
       "      <td>1057063.0</td>\n",
       "    </tr>\n",
       "    <tr>\n",
       "      <th>4.0</th>\n",
       "      <td>264874622.0</td>\n",
       "    </tr>\n",
       "    <tr>\n",
       "      <th>5.0</th>\n",
       "      <td>2474196.0</td>\n",
       "    </tr>\n",
       "    <tr>\n",
       "      <th>6.0</th>\n",
       "      <td>57531649.0</td>\n",
       "    </tr>\n",
       "    <tr>\n",
       "      <th>7.0</th>\n",
       "      <td>25786.0</td>\n",
       "    </tr>\n",
       "    <tr>\n",
       "      <th>8.0</th>\n",
       "      <td>27945058.0</td>\n",
       "    </tr>\n",
       "    <tr>\n",
       "      <th>9.0</th>\n",
       "      <td>2800.0</td>\n",
       "    </tr>\n",
       "    <tr>\n",
       "      <th>10.0</th>\n",
       "      <td>377840.0</td>\n",
       "    </tr>\n",
       "    <tr>\n",
       "      <th>11.0</th>\n",
       "      <td>0.0</td>\n",
       "    </tr>\n",
       "    <tr>\n",
       "      <th>12.0</th>\n",
       "      <td>1510771.0</td>\n",
       "    </tr>\n",
       "    <tr>\n",
       "      <th>14.0</th>\n",
       "      <td>15681.0</td>\n",
       "    </tr>\n",
       "    <tr>\n",
       "      <th>15.0</th>\n",
       "      <td>0.0</td>\n",
       "    </tr>\n",
       "    <tr>\n",
       "      <th>16.0</th>\n",
       "      <td>87599.0</td>\n",
       "    </tr>\n",
       "    <tr>\n",
       "      <th>127.0</th>\n",
       "      <td>0.0</td>\n",
       "    </tr>\n",
       "  </tbody>\n",
       "</table>\n",
       "</div>"
      ],
      "text/plain": [
       "                 Price\n",
       "Cylinders             \n",
       "1.0           622254.0\n",
       "2.0           435053.0\n",
       "3.0          1057063.0\n",
       "4.0        264874622.0\n",
       "5.0          2474196.0\n",
       "6.0         57531649.0\n",
       "7.0            25786.0\n",
       "8.0         27945058.0\n",
       "9.0             2800.0\n",
       "10.0          377840.0\n",
       "11.0               0.0\n",
       "12.0         1510771.0\n",
       "14.0           15681.0\n",
       "15.0               0.0\n",
       "16.0           87599.0\n",
       "127.0              0.0"
      ]
     },
     "execution_count": 84,
     "metadata": {},
     "output_type": "execute_result"
    }
   ],
   "source": [
    "pd.pivot_table(data, values='Price', index=\"Cylinders\", aggfunc={'Price':np.sum})"
   ]
  },
  {
   "cell_type": "code",
   "execution_count": 85,
   "metadata": {},
   "outputs": [],
   "source": [
    "data['Cylinders'] = data['Cylinders'].replace([11.0, 15.0, 127.0], 4.0)"
   ]
  },
  {
   "cell_type": "code",
   "execution_count": 86,
   "metadata": {},
   "outputs": [],
   "source": [
    "#Cylinder_mapping = data['Cylinders'].value_counts().to_dict()\n",
    "#Cylinder_mapping"
   ]
  },
  {
   "cell_type": "code",
   "execution_count": 87,
   "metadata": {},
   "outputs": [],
   "source": [
    "#data['Cylinders'] = data['Cylinders'].map(Cylinder_mapping)"
   ]
  },
  {
   "cell_type": "markdown",
   "metadata": {},
   "source": [
    "Gear box type"
   ]
  },
  {
   "cell_type": "code",
   "execution_count": 88,
   "metadata": {
    "scrolled": false
   },
   "outputs": [
    {
     "data": {
      "text/plain": [
       "Index(['Automatic', 'Tiptronic', 'Manual', 'Variator'], dtype='object')"
      ]
     },
     "execution_count": 88,
     "metadata": {},
     "output_type": "execute_result"
    }
   ],
   "source": [
    "data['Gear box type'].value_counts().index\n"
   ]
  },
  {
   "cell_type": "code",
   "execution_count": 89,
   "metadata": {},
   "outputs": [
    {
     "data": {
      "text/plain": [
       "Index(['Variator', 'Automatic', 'Manual', 'Tiptronic'], dtype='object', name='Gear box type')"
      ]
     },
     "execution_count": 89,
     "metadata": {},
     "output_type": "execute_result"
    }
   ],
   "source": [
    "Gear = pd.pivot_table(data, values = 'Price', index= 'Gear box type', aggfunc={'Price':np.mean})\n",
    "Gear = Gear.sort_values(by='Price').index\n",
    "Gear"
   ]
  },
  {
   "cell_type": "code",
   "execution_count": 90,
   "metadata": {},
   "outputs": [],
   "source": [
    "Gear_mapping = {k:i for i, k in enumerate(Gear, 0)}\n",
    "data['Gear box type'] =data['Gear box type'].map(Gear_mapping)"
   ]
  },
  {
   "cell_type": "markdown",
   "metadata": {},
   "source": [
    "Drive wheels"
   ]
  },
  {
   "cell_type": "code",
   "execution_count": 91,
   "metadata": {
    "scrolled": false
   },
   "outputs": [
    {
     "data": {
      "text/plain": [
       "Index(['Front', '4x4', 'Rear'], dtype='object')"
      ]
     },
     "execution_count": 91,
     "metadata": {},
     "output_type": "execute_result"
    }
   ],
   "source": [
    "Drive = data['Drive wheels'].value_counts().index\n",
    "Drive"
   ]
  },
  {
   "cell_type": "code",
   "execution_count": 92,
   "metadata": {},
   "outputs": [],
   "source": [
    "#Drive_mapping = {k:i for i, k in enumerate(Drive, 0)}\n",
    "#data['Drive wheels'] =data['Drive wheels'].map(Drive_mapping)"
   ]
  },
  {
   "cell_type": "code",
   "execution_count": 93,
   "metadata": {},
   "outputs": [],
   "source": [
    "data['Drive wheels_Rear'] = data['Drive wheels'].map(lambda f:1 if f==\"Rear\" else 0)\n",
    "data['Drive wheels_Front'] = data['Drive wheels'].map(lambda f:1 if f==\"Front\" else 0)\n",
    "data['Drive wheels_4'] = data['Drive wheels'].map(lambda f:1 if f==\"4x4\" else 0)"
   ]
  },
  {
   "cell_type": "code",
   "execution_count": 94,
   "metadata": {},
   "outputs": [],
   "source": [
    "data = data.drop(['Drive wheels'], axis=1)"
   ]
  },
  {
   "cell_type": "markdown",
   "metadata": {},
   "source": [
    "Doors"
   ]
  },
  {
   "cell_type": "code",
   "execution_count": 95,
   "metadata": {
    "scrolled": true
   },
   "outputs": [
    {
     "data": {
      "text/plain": [
       "Index(['04-May', '02-Mar', '>5'], dtype='object')"
      ]
     },
     "execution_count": 95,
     "metadata": {},
     "output_type": "execute_result"
    }
   ],
   "source": [
    "Doors = data.Doors.value_counts().index\n",
    "Doors"
   ]
  },
  {
   "cell_type": "code",
   "execution_count": 96,
   "metadata": {},
   "outputs": [],
   "source": [
    "#Door_mapping = {k:i for i, k in enumerate(Doors, 0)}\n",
    "#data['Doors'] =data['Doors'].map(Door_mapping)"
   ]
  },
  {
   "cell_type": "code",
   "execution_count": 97,
   "metadata": {},
   "outputs": [],
   "source": [
    "data['Door=4'] = data['Doors'].map(lambda d:1 if d=='04-May' else 0)\n",
    "data['Door=2'] = data['Doors'].map(lambda d:1 if d=='02-Mar' else 0)\n",
    "data['Door>5'] = data['Doors'].map(lambda d:1 if d=='>5' else 0)"
   ]
  },
  {
   "cell_type": "code",
   "execution_count": 98,
   "metadata": {},
   "outputs": [],
   "source": [
    "data = data.drop(['Doors'], axis=1)"
   ]
  },
  {
   "cell_type": "markdown",
   "metadata": {},
   "source": [
    "Wheel"
   ]
  },
  {
   "cell_type": "code",
   "execution_count": 99,
   "metadata": {
    "scrolled": false
   },
   "outputs": [
    {
     "data": {
      "text/plain": [
       "Left wheel          25384\n",
       "Right-hand drive     2098\n",
       "Name: Wheel, dtype: int64"
      ]
     },
     "execution_count": 99,
     "metadata": {},
     "output_type": "execute_result"
    }
   ],
   "source": [
    "data['Wheel'].value_counts()"
   ]
  },
  {
   "cell_type": "markdown",
   "metadata": {},
   "source": [
    "Color"
   ]
  },
  {
   "cell_type": "code",
   "execution_count": 100,
   "metadata": {
    "scrolled": false
   },
   "outputs": [
    {
     "data": {
      "text/plain": [
       "{'Black': 7196,\n",
       " 'White': 6392,\n",
       " 'Silver': 5422,\n",
       " 'Grey': 3400,\n",
       " 'Blue': 2011,\n",
       " 'Red': 893,\n",
       " 'Green': 463,\n",
       " 'Orange': 358,\n",
       " 'Brown': 270,\n",
       " 'Carnelian red': 266,\n",
       " 'Golden': 207,\n",
       " 'Beige': 198,\n",
       " 'Sky blue': 177,\n",
       " 'Yellow': 145,\n",
       " 'Purple': 53,\n",
       " 'Pink': 31}"
      ]
     },
     "execution_count": 100,
     "metadata": {},
     "output_type": "execute_result"
    }
   ],
   "source": [
    "data['Color'].value_counts().to_dict()\n"
   ]
  },
  {
   "cell_type": "code",
   "execution_count": 101,
   "metadata": {},
   "outputs": [
    {
     "data": {
      "text/plain": [
       "Index(['Purple', 'Green', 'Pink', 'Orange', 'Red', 'Sky blue', 'Golden',\n",
       "       'Silver', 'Beige', 'Carnelian red', 'White', 'Black', 'Grey', 'Brown',\n",
       "       'Yellow', 'Blue'],\n",
       "      dtype='object', name='Color')"
      ]
     },
     "execution_count": 101,
     "metadata": {},
     "output_type": "execute_result"
    }
   ],
   "source": [
    "Color = pd.pivot_table(data, values='Price', index='Color', aggfunc={'Price':np.mean})\n",
    "Color = Color.sort_values(by='Price').index\n",
    "Color"
   ]
  },
  {
   "cell_type": "code",
   "execution_count": 102,
   "metadata": {},
   "outputs": [],
   "source": [
    "color_mapping = {k:i for i,k in enumerate(Color, 0)}\n",
    "data['Color'] = data['Color'].map(color_mapping)"
   ]
  },
  {
   "cell_type": "markdown",
   "metadata": {},
   "source": [
    "Airbags"
   ]
  },
  {
   "cell_type": "code",
   "execution_count": 103,
   "metadata": {
    "scrolled": false
   },
   "outputs": [
    {
     "data": {
      "text/plain": [
       "{4: 8258,\n",
       " 12: 8034,\n",
       " 0: 3503,\n",
       " 8: 2344,\n",
       " 6: 1856,\n",
       " 2: 1541,\n",
       " 10: 1203,\n",
       " 5: 143,\n",
       " 16: 142,\n",
       " 7: 120,\n",
       " 1: 112,\n",
       " 9: 85,\n",
       " 3: 53,\n",
       " 11: 53,\n",
       " 14: 23,\n",
       " 15: 8,\n",
       " 13: 4}"
      ]
     },
     "execution_count": 103,
     "metadata": {},
     "output_type": "execute_result"
    }
   ],
   "source": [
    "data['Airbags'].value_counts().to_dict()\n"
   ]
  },
  {
   "cell_type": "code",
   "execution_count": 104,
   "metadata": {},
   "outputs": [],
   "source": [
    "data['Airbags'] = data['Airbags'].replace(0, 4)"
   ]
  },
  {
   "cell_type": "code",
   "execution_count": 105,
   "metadata": {
    "scrolled": false
   },
   "outputs": [
    {
     "data": {
      "text/html": [
       "<div>\n",
       "<style scoped>\n",
       "    .dataframe tbody tr th:only-of-type {\n",
       "        vertical-align: middle;\n",
       "    }\n",
       "\n",
       "    .dataframe tbody tr th {\n",
       "        vertical-align: top;\n",
       "    }\n",
       "\n",
       "    .dataframe thead th {\n",
       "        text-align: right;\n",
       "    }\n",
       "</style>\n",
       "<table border=\"1\" class=\"dataframe\">\n",
       "  <thead>\n",
       "    <tr style=\"text-align: right;\">\n",
       "      <th></th>\n",
       "      <th>ID</th>\n",
       "      <th>Price</th>\n",
       "      <th>Manufacturer</th>\n",
       "      <th>Prod. year</th>\n",
       "      <th>Category</th>\n",
       "      <th>Leather interior</th>\n",
       "      <th>Fuel type</th>\n",
       "      <th>Cylinders</th>\n",
       "      <th>Gear box type</th>\n",
       "      <th>Wheel</th>\n",
       "      <th>...</th>\n",
       "      <th>Model_X5</th>\n",
       "      <th>Engine_Type</th>\n",
       "      <th>Engine volume_random</th>\n",
       "      <th>Mileage_random</th>\n",
       "      <th>Drive wheels_Rear</th>\n",
       "      <th>Drive wheels_Front</th>\n",
       "      <th>Drive wheels_4</th>\n",
       "      <th>Door=4</th>\n",
       "      <th>Door=2</th>\n",
       "      <th>Door&gt;5</th>\n",
       "    </tr>\n",
       "  </thead>\n",
       "  <tbody>\n",
       "    <tr>\n",
       "      <th>0</th>\n",
       "      <td>45654403</td>\n",
       "      <td>13328.0</td>\n",
       "      <td>62</td>\n",
       "      <td>11</td>\n",
       "      <td>6</td>\n",
       "      <td>Yes</td>\n",
       "      <td>1</td>\n",
       "      <td>6.0</td>\n",
       "      <td>1</td>\n",
       "      <td>Left wheel</td>\n",
       "      <td>...</td>\n",
       "      <td>0</td>\n",
       "      <td>Non-Turbo</td>\n",
       "      <td>3.5</td>\n",
       "      <td>186005.0</td>\n",
       "      <td>0</td>\n",
       "      <td>0</td>\n",
       "      <td>1</td>\n",
       "      <td>1</td>\n",
       "      <td>0</td>\n",
       "      <td>0</td>\n",
       "    </tr>\n",
       "    <tr>\n",
       "      <th>1</th>\n",
       "      <td>44731507</td>\n",
       "      <td>16621.0</td>\n",
       "      <td>60</td>\n",
       "      <td>10</td>\n",
       "      <td>6</td>\n",
       "      <td>No</td>\n",
       "      <td>3</td>\n",
       "      <td>6.0</td>\n",
       "      <td>3</td>\n",
       "      <td>Left wheel</td>\n",
       "      <td>...</td>\n",
       "      <td>0</td>\n",
       "      <td>Non-Turbo</td>\n",
       "      <td>3.0</td>\n",
       "      <td>192000.0</td>\n",
       "      <td>0</td>\n",
       "      <td>0</td>\n",
       "      <td>1</td>\n",
       "      <td>1</td>\n",
       "      <td>0</td>\n",
       "      <td>0</td>\n",
       "    </tr>\n",
       "    <tr>\n",
       "      <th>2</th>\n",
       "      <td>45774419</td>\n",
       "      <td>8467.0</td>\n",
       "      <td>59</td>\n",
       "      <td>15</td>\n",
       "      <td>0</td>\n",
       "      <td>No</td>\n",
       "      <td>3</td>\n",
       "      <td>4.0</td>\n",
       "      <td>0</td>\n",
       "      <td>Right-hand drive</td>\n",
       "      <td>...</td>\n",
       "      <td>0</td>\n",
       "      <td>Non-Turbo</td>\n",
       "      <td>1.3</td>\n",
       "      <td>200000.0</td>\n",
       "      <td>0</td>\n",
       "      <td>1</td>\n",
       "      <td>0</td>\n",
       "      <td>1</td>\n",
       "      <td>0</td>\n",
       "      <td>0</td>\n",
       "    </tr>\n",
       "    <tr>\n",
       "      <th>3</th>\n",
       "      <td>45769185</td>\n",
       "      <td>3607.0</td>\n",
       "      <td>61</td>\n",
       "      <td>10</td>\n",
       "      <td>6</td>\n",
       "      <td>Yes</td>\n",
       "      <td>1</td>\n",
       "      <td>4.0</td>\n",
       "      <td>1</td>\n",
       "      <td>Left wheel</td>\n",
       "      <td>...</td>\n",
       "      <td>0</td>\n",
       "      <td>Non-Turbo</td>\n",
       "      <td>2.5</td>\n",
       "      <td>168966.0</td>\n",
       "      <td>0</td>\n",
       "      <td>0</td>\n",
       "      <td>1</td>\n",
       "      <td>1</td>\n",
       "      <td>0</td>\n",
       "      <td>0</td>\n",
       "    </tr>\n",
       "    <tr>\n",
       "      <th>4</th>\n",
       "      <td>45809263</td>\n",
       "      <td>11726.0</td>\n",
       "      <td>59</td>\n",
       "      <td>7</td>\n",
       "      <td>0</td>\n",
       "      <td>Yes</td>\n",
       "      <td>3</td>\n",
       "      <td>4.0</td>\n",
       "      <td>1</td>\n",
       "      <td>Left wheel</td>\n",
       "      <td>...</td>\n",
       "      <td>0</td>\n",
       "      <td>Non-Turbo</td>\n",
       "      <td>1.3</td>\n",
       "      <td>91901.0</td>\n",
       "      <td>0</td>\n",
       "      <td>1</td>\n",
       "      <td>0</td>\n",
       "      <td>1</td>\n",
       "      <td>0</td>\n",
       "      <td>0</td>\n",
       "    </tr>\n",
       "  </tbody>\n",
       "</table>\n",
       "<p>5 rows × 32 columns</p>\n",
       "</div>"
      ],
      "text/plain": [
       "         ID    Price  Manufacturer  Prod. year  Category Leather interior  \\\n",
       "0  45654403  13328.0            62          11         6              Yes   \n",
       "1  44731507  16621.0            60          10         6               No   \n",
       "2  45774419   8467.0            59          15         0               No   \n",
       "3  45769185   3607.0            61          10         6              Yes   \n",
       "4  45809263  11726.0            59           7         0              Yes   \n",
       "\n",
       "   Fuel type  Cylinders  Gear box type             Wheel  ...  Model_X5  \\\n",
       "0          1        6.0              1        Left wheel  ...         0   \n",
       "1          3        6.0              3        Left wheel  ...         0   \n",
       "2          3        4.0              0  Right-hand drive  ...         0   \n",
       "3          1        4.0              1        Left wheel  ...         0   \n",
       "4          3        4.0              1        Left wheel  ...         0   \n",
       "\n",
       "   Engine_Type  Engine volume_random  Mileage_random  Drive wheels_Rear  \\\n",
       "0    Non-Turbo                   3.5        186005.0                  0   \n",
       "1    Non-Turbo                   3.0        192000.0                  0   \n",
       "2    Non-Turbo                   1.3        200000.0                  0   \n",
       "3    Non-Turbo                   2.5        168966.0                  0   \n",
       "4    Non-Turbo                   1.3         91901.0                  0   \n",
       "\n",
       "   Drive wheels_Front  Drive wheels_4  Door=4  Door=2  Door>5  \n",
       "0                   0               1       1       0       0  \n",
       "1                   0               1       1       0       0  \n",
       "2                   1               0       1       0       0  \n",
       "3                   0               1       1       0       0  \n",
       "4                   1               0       1       0       0  \n",
       "\n",
       "[5 rows x 32 columns]"
      ]
     },
     "execution_count": 105,
     "metadata": {},
     "output_type": "execute_result"
    }
   ],
   "source": [
    "data.head()"
   ]
  },
  {
   "cell_type": "code",
   "execution_count": 106,
   "metadata": {},
   "outputs": [],
   "source": [
    "data = data.drop(['ID','Manufacturer'], axis=1)"
   ]
  },
  {
   "cell_type": "code",
   "execution_count": 107,
   "metadata": {
    "scrolled": true
   },
   "outputs": [
    {
     "data": {
      "text/plain": [
       "Price                   8245\n",
       "Prod. year                 0\n",
       "Category                   0\n",
       "Leather interior           0\n",
       "Fuel type                  0\n",
       "Cylinders                  0\n",
       "Gear box type              0\n",
       "Wheel                      0\n",
       "Color                      0\n",
       "Airbags                    0\n",
       "Levy_random                0\n",
       "Model_Sonata               0\n",
       "Model_Prius                0\n",
       "Model_Camry                0\n",
       "Model_Elantra              0\n",
       "Model_E 350                0\n",
       "Model_Santa FE             0\n",
       "Model_H1                   0\n",
       "Model_FIT                  0\n",
       "Model_Tucson               0\n",
       "Model_X5                   0\n",
       "Engine_Type                0\n",
       "Engine volume_random       0\n",
       "Mileage_random             0\n",
       "Drive wheels_Rear          0\n",
       "Drive wheels_Front         0\n",
       "Drive wheels_4             0\n",
       "Door=4                     0\n",
       "Door=2                     0\n",
       "Door>5                     0\n",
       "dtype: int64"
      ]
     },
     "execution_count": 107,
     "metadata": {},
     "output_type": "execute_result"
    }
   ],
   "source": [
    "data.isnull().sum()"
   ]
  },
  {
   "cell_type": "code",
   "execution_count": 108,
   "metadata": {
    "scrolled": true
   },
   "outputs": [
    {
     "data": {
      "text/html": [
       "<div>\n",
       "<style scoped>\n",
       "    .dataframe tbody tr th:only-of-type {\n",
       "        vertical-align: middle;\n",
       "    }\n",
       "\n",
       "    .dataframe tbody tr th {\n",
       "        vertical-align: top;\n",
       "    }\n",
       "\n",
       "    .dataframe thead th {\n",
       "        text-align: right;\n",
       "    }\n",
       "</style>\n",
       "<table border=\"1\" class=\"dataframe\">\n",
       "  <thead>\n",
       "    <tr style=\"text-align: right;\">\n",
       "      <th></th>\n",
       "      <th>Leather interior</th>\n",
       "      <th>Wheel</th>\n",
       "      <th>Engine_Type</th>\n",
       "    </tr>\n",
       "  </thead>\n",
       "  <tbody>\n",
       "    <tr>\n",
       "      <th>0</th>\n",
       "      <td>Yes</td>\n",
       "      <td>Left wheel</td>\n",
       "      <td>Non-Turbo</td>\n",
       "    </tr>\n",
       "    <tr>\n",
       "      <th>1</th>\n",
       "      <td>No</td>\n",
       "      <td>Left wheel</td>\n",
       "      <td>Non-Turbo</td>\n",
       "    </tr>\n",
       "    <tr>\n",
       "      <th>2</th>\n",
       "      <td>No</td>\n",
       "      <td>Right-hand drive</td>\n",
       "      <td>Non-Turbo</td>\n",
       "    </tr>\n",
       "    <tr>\n",
       "      <th>3</th>\n",
       "      <td>Yes</td>\n",
       "      <td>Left wheel</td>\n",
       "      <td>Non-Turbo</td>\n",
       "    </tr>\n",
       "    <tr>\n",
       "      <th>4</th>\n",
       "      <td>Yes</td>\n",
       "      <td>Left wheel</td>\n",
       "      <td>Non-Turbo</td>\n",
       "    </tr>\n",
       "  </tbody>\n",
       "</table>\n",
       "</div>"
      ],
      "text/plain": [
       "  Leather interior             Wheel Engine_Type\n",
       "0              Yes        Left wheel   Non-Turbo\n",
       "1               No        Left wheel   Non-Turbo\n",
       "2               No  Right-hand drive   Non-Turbo\n",
       "3              Yes        Left wheel   Non-Turbo\n",
       "4              Yes        Left wheel   Non-Turbo"
      ]
     },
     "execution_count": 108,
     "metadata": {},
     "output_type": "execute_result"
    }
   ],
   "source": [
    "data_dummies = data[data.select_dtypes(include=['object']).columns.tolist()]\n",
    "data_dummies.head()"
   ]
  },
  {
   "cell_type": "code",
   "execution_count": 109,
   "metadata": {
    "scrolled": false
   },
   "outputs": [
    {
     "data": {
      "text/html": [
       "<div>\n",
       "<style scoped>\n",
       "    .dataframe tbody tr th:only-of-type {\n",
       "        vertical-align: middle;\n",
       "    }\n",
       "\n",
       "    .dataframe tbody tr th {\n",
       "        vertical-align: top;\n",
       "    }\n",
       "\n",
       "    .dataframe thead th {\n",
       "        text-align: right;\n",
       "    }\n",
       "</style>\n",
       "<table border=\"1\" class=\"dataframe\">\n",
       "  <thead>\n",
       "    <tr style=\"text-align: right;\">\n",
       "      <th></th>\n",
       "      <th>Price</th>\n",
       "      <th>Prod. year</th>\n",
       "      <th>Category</th>\n",
       "      <th>Fuel type</th>\n",
       "      <th>Cylinders</th>\n",
       "      <th>Gear box type</th>\n",
       "      <th>Color</th>\n",
       "      <th>Airbags</th>\n",
       "      <th>Levy_random</th>\n",
       "      <th>Model_Sonata</th>\n",
       "      <th>...</th>\n",
       "      <th>Model_Tucson</th>\n",
       "      <th>Model_X5</th>\n",
       "      <th>Engine volume_random</th>\n",
       "      <th>Mileage_random</th>\n",
       "      <th>Drive wheels_Rear</th>\n",
       "      <th>Drive wheels_Front</th>\n",
       "      <th>Drive wheels_4</th>\n",
       "      <th>Door=4</th>\n",
       "      <th>Door=2</th>\n",
       "      <th>Door&gt;5</th>\n",
       "    </tr>\n",
       "  </thead>\n",
       "  <tbody>\n",
       "    <tr>\n",
       "      <th>0</th>\n",
       "      <td>13328.0</td>\n",
       "      <td>11</td>\n",
       "      <td>6</td>\n",
       "      <td>1</td>\n",
       "      <td>6.0</td>\n",
       "      <td>1</td>\n",
       "      <td>7</td>\n",
       "      <td>12</td>\n",
       "      <td>1399.0</td>\n",
       "      <td>0</td>\n",
       "      <td>...</td>\n",
       "      <td>0</td>\n",
       "      <td>0</td>\n",
       "      <td>3.5</td>\n",
       "      <td>186005.0</td>\n",
       "      <td>0</td>\n",
       "      <td>0</td>\n",
       "      <td>1</td>\n",
       "      <td>1</td>\n",
       "      <td>0</td>\n",
       "      <td>0</td>\n",
       "    </tr>\n",
       "    <tr>\n",
       "      <th>1</th>\n",
       "      <td>16621.0</td>\n",
       "      <td>10</td>\n",
       "      <td>6</td>\n",
       "      <td>3</td>\n",
       "      <td>6.0</td>\n",
       "      <td>3</td>\n",
       "      <td>11</td>\n",
       "      <td>8</td>\n",
       "      <td>1018.0</td>\n",
       "      <td>0</td>\n",
       "      <td>...</td>\n",
       "      <td>0</td>\n",
       "      <td>0</td>\n",
       "      <td>3.0</td>\n",
       "      <td>192000.0</td>\n",
       "      <td>0</td>\n",
       "      <td>0</td>\n",
       "      <td>1</td>\n",
       "      <td>1</td>\n",
       "      <td>0</td>\n",
       "      <td>0</td>\n",
       "    </tr>\n",
       "    <tr>\n",
       "      <th>2</th>\n",
       "      <td>8467.0</td>\n",
       "      <td>15</td>\n",
       "      <td>0</td>\n",
       "      <td>3</td>\n",
       "      <td>4.0</td>\n",
       "      <td>0</td>\n",
       "      <td>11</td>\n",
       "      <td>2</td>\n",
       "      <td>1307.0</td>\n",
       "      <td>0</td>\n",
       "      <td>...</td>\n",
       "      <td>0</td>\n",
       "      <td>0</td>\n",
       "      <td>1.3</td>\n",
       "      <td>200000.0</td>\n",
       "      <td>0</td>\n",
       "      <td>1</td>\n",
       "      <td>0</td>\n",
       "      <td>1</td>\n",
       "      <td>0</td>\n",
       "      <td>0</td>\n",
       "    </tr>\n",
       "    <tr>\n",
       "      <th>3</th>\n",
       "      <td>3607.0</td>\n",
       "      <td>10</td>\n",
       "      <td>6</td>\n",
       "      <td>1</td>\n",
       "      <td>4.0</td>\n",
       "      <td>1</td>\n",
       "      <td>10</td>\n",
       "      <td>4</td>\n",
       "      <td>862.0</td>\n",
       "      <td>0</td>\n",
       "      <td>...</td>\n",
       "      <td>0</td>\n",
       "      <td>0</td>\n",
       "      <td>2.5</td>\n",
       "      <td>168966.0</td>\n",
       "      <td>0</td>\n",
       "      <td>0</td>\n",
       "      <td>1</td>\n",
       "      <td>1</td>\n",
       "      <td>0</td>\n",
       "      <td>0</td>\n",
       "    </tr>\n",
       "    <tr>\n",
       "      <th>4</th>\n",
       "      <td>11726.0</td>\n",
       "      <td>7</td>\n",
       "      <td>0</td>\n",
       "      <td>3</td>\n",
       "      <td>4.0</td>\n",
       "      <td>1</td>\n",
       "      <td>7</td>\n",
       "      <td>4</td>\n",
       "      <td>446.0</td>\n",
       "      <td>0</td>\n",
       "      <td>...</td>\n",
       "      <td>0</td>\n",
       "      <td>0</td>\n",
       "      <td>1.3</td>\n",
       "      <td>91901.0</td>\n",
       "      <td>0</td>\n",
       "      <td>1</td>\n",
       "      <td>0</td>\n",
       "      <td>1</td>\n",
       "      <td>0</td>\n",
       "      <td>0</td>\n",
       "    </tr>\n",
       "  </tbody>\n",
       "</table>\n",
       "<p>5 rows × 27 columns</p>\n",
       "</div>"
      ],
      "text/plain": [
       "     Price  Prod. year  Category  Fuel type  Cylinders  Gear box type  Color  \\\n",
       "0  13328.0          11         6          1        6.0              1      7   \n",
       "1  16621.0          10         6          3        6.0              3     11   \n",
       "2   8467.0          15         0          3        4.0              0     11   \n",
       "3   3607.0          10         6          1        4.0              1     10   \n",
       "4  11726.0           7         0          3        4.0              1      7   \n",
       "\n",
       "   Airbags  Levy_random  Model_Sonata  ...  Model_Tucson  Model_X5  \\\n",
       "0       12       1399.0             0  ...             0         0   \n",
       "1        8       1018.0             0  ...             0         0   \n",
       "2        2       1307.0             0  ...             0         0   \n",
       "3        4        862.0             0  ...             0         0   \n",
       "4        4        446.0             0  ...             0         0   \n",
       "\n",
       "   Engine volume_random  Mileage_random  Drive wheels_Rear  \\\n",
       "0                   3.5        186005.0                  0   \n",
       "1                   3.0        192000.0                  0   \n",
       "2                   1.3        200000.0                  0   \n",
       "3                   2.5        168966.0                  0   \n",
       "4                   1.3         91901.0                  0   \n",
       "\n",
       "   Drive wheels_Front  Drive wheels_4  Door=4  Door=2  Door>5  \n",
       "0                   0               1       1       0       0  \n",
       "1                   0               1       1       0       0  \n",
       "2                   1               0       1       0       0  \n",
       "3                   0               1       1       0       0  \n",
       "4                   1               0       1       0       0  \n",
       "\n",
       "[5 rows x 27 columns]"
      ]
     },
     "execution_count": 109,
     "metadata": {},
     "output_type": "execute_result"
    }
   ],
   "source": [
    "data_num = data[data.select_dtypes(include=[np.number]).columns.tolist()]\n",
    "data_num.head()"
   ]
  },
  {
   "cell_type": "code",
   "execution_count": 110,
   "metadata": {
    "scrolled": false
   },
   "outputs": [],
   "source": [
    "#from sklearn.preprocessing import LabelEncoder\n",
    "#data_dummies = data_dummies.apply(LabelEncoder().fit_transform)\n",
    "#data_dummies.head()"
   ]
  },
  {
   "cell_type": "code",
   "execution_count": 111,
   "metadata": {},
   "outputs": [
    {
     "data": {
      "text/html": [
       "<div>\n",
       "<style scoped>\n",
       "    .dataframe tbody tr th:only-of-type {\n",
       "        vertical-align: middle;\n",
       "    }\n",
       "\n",
       "    .dataframe tbody tr th {\n",
       "        vertical-align: top;\n",
       "    }\n",
       "\n",
       "    .dataframe thead th {\n",
       "        text-align: right;\n",
       "    }\n",
       "</style>\n",
       "<table border=\"1\" class=\"dataframe\">\n",
       "  <thead>\n",
       "    <tr style=\"text-align: right;\">\n",
       "      <th></th>\n",
       "      <th>Leather interior_Yes</th>\n",
       "      <th>Wheel_Right-hand drive</th>\n",
       "      <th>Engine_Type_Turbo</th>\n",
       "    </tr>\n",
       "  </thead>\n",
       "  <tbody>\n",
       "    <tr>\n",
       "      <th>0</th>\n",
       "      <td>1</td>\n",
       "      <td>0</td>\n",
       "      <td>0</td>\n",
       "    </tr>\n",
       "    <tr>\n",
       "      <th>1</th>\n",
       "      <td>0</td>\n",
       "      <td>0</td>\n",
       "      <td>0</td>\n",
       "    </tr>\n",
       "    <tr>\n",
       "      <th>2</th>\n",
       "      <td>0</td>\n",
       "      <td>1</td>\n",
       "      <td>0</td>\n",
       "    </tr>\n",
       "    <tr>\n",
       "      <th>3</th>\n",
       "      <td>1</td>\n",
       "      <td>0</td>\n",
       "      <td>0</td>\n",
       "    </tr>\n",
       "    <tr>\n",
       "      <th>4</th>\n",
       "      <td>1</td>\n",
       "      <td>0</td>\n",
       "      <td>0</td>\n",
       "    </tr>\n",
       "  </tbody>\n",
       "</table>\n",
       "</div>"
      ],
      "text/plain": [
       "   Leather interior_Yes  Wheel_Right-hand drive  Engine_Type_Turbo\n",
       "0                     1                       0                  0\n",
       "1                     0                       0                  0\n",
       "2                     0                       1                  0\n",
       "3                     1                       0                  0\n",
       "4                     1                       0                  0"
      ]
     },
     "execution_count": 111,
     "metadata": {},
     "output_type": "execute_result"
    }
   ],
   "source": [
    "data_dummies = pd.get_dummies(data_dummies, drop_first=True)\n",
    "data_dummies.head()"
   ]
  },
  {
   "cell_type": "code",
   "execution_count": 112,
   "metadata": {},
   "outputs": [],
   "source": [
    "data_combined = pd.concat([data_num, data_dummies], axis=1)"
   ]
  },
  {
   "cell_type": "code",
   "execution_count": 113,
   "metadata": {
    "scrolled": true
   },
   "outputs": [
    {
     "data": {
      "text/html": [
       "<div>\n",
       "<style scoped>\n",
       "    .dataframe tbody tr th:only-of-type {\n",
       "        vertical-align: middle;\n",
       "    }\n",
       "\n",
       "    .dataframe tbody tr th {\n",
       "        vertical-align: top;\n",
       "    }\n",
       "\n",
       "    .dataframe thead th {\n",
       "        text-align: right;\n",
       "    }\n",
       "</style>\n",
       "<table border=\"1\" class=\"dataframe\">\n",
       "  <thead>\n",
       "    <tr style=\"text-align: right;\">\n",
       "      <th></th>\n",
       "      <th>Price</th>\n",
       "      <th>Prod. year</th>\n",
       "      <th>Category</th>\n",
       "      <th>Fuel type</th>\n",
       "      <th>Cylinders</th>\n",
       "      <th>Gear box type</th>\n",
       "      <th>Color</th>\n",
       "      <th>Airbags</th>\n",
       "      <th>Levy_random</th>\n",
       "      <th>Model_Sonata</th>\n",
       "      <th>...</th>\n",
       "      <th>Mileage_random</th>\n",
       "      <th>Drive wheels_Rear</th>\n",
       "      <th>Drive wheels_Front</th>\n",
       "      <th>Drive wheels_4</th>\n",
       "      <th>Door=4</th>\n",
       "      <th>Door=2</th>\n",
       "      <th>Door&gt;5</th>\n",
       "      <th>Leather interior_Yes</th>\n",
       "      <th>Wheel_Right-hand drive</th>\n",
       "      <th>Engine_Type_Turbo</th>\n",
       "    </tr>\n",
       "  </thead>\n",
       "  <tbody>\n",
       "    <tr>\n",
       "      <th>0</th>\n",
       "      <td>13328.0</td>\n",
       "      <td>11</td>\n",
       "      <td>6</td>\n",
       "      <td>1</td>\n",
       "      <td>6.0</td>\n",
       "      <td>1</td>\n",
       "      <td>7</td>\n",
       "      <td>12</td>\n",
       "      <td>1399.0</td>\n",
       "      <td>0</td>\n",
       "      <td>...</td>\n",
       "      <td>186005.0</td>\n",
       "      <td>0</td>\n",
       "      <td>0</td>\n",
       "      <td>1</td>\n",
       "      <td>1</td>\n",
       "      <td>0</td>\n",
       "      <td>0</td>\n",
       "      <td>1</td>\n",
       "      <td>0</td>\n",
       "      <td>0</td>\n",
       "    </tr>\n",
       "    <tr>\n",
       "      <th>1</th>\n",
       "      <td>16621.0</td>\n",
       "      <td>10</td>\n",
       "      <td>6</td>\n",
       "      <td>3</td>\n",
       "      <td>6.0</td>\n",
       "      <td>3</td>\n",
       "      <td>11</td>\n",
       "      <td>8</td>\n",
       "      <td>1018.0</td>\n",
       "      <td>0</td>\n",
       "      <td>...</td>\n",
       "      <td>192000.0</td>\n",
       "      <td>0</td>\n",
       "      <td>0</td>\n",
       "      <td>1</td>\n",
       "      <td>1</td>\n",
       "      <td>0</td>\n",
       "      <td>0</td>\n",
       "      <td>0</td>\n",
       "      <td>0</td>\n",
       "      <td>0</td>\n",
       "    </tr>\n",
       "    <tr>\n",
       "      <th>2</th>\n",
       "      <td>8467.0</td>\n",
       "      <td>15</td>\n",
       "      <td>0</td>\n",
       "      <td>3</td>\n",
       "      <td>4.0</td>\n",
       "      <td>0</td>\n",
       "      <td>11</td>\n",
       "      <td>2</td>\n",
       "      <td>1307.0</td>\n",
       "      <td>0</td>\n",
       "      <td>...</td>\n",
       "      <td>200000.0</td>\n",
       "      <td>0</td>\n",
       "      <td>1</td>\n",
       "      <td>0</td>\n",
       "      <td>1</td>\n",
       "      <td>0</td>\n",
       "      <td>0</td>\n",
       "      <td>0</td>\n",
       "      <td>1</td>\n",
       "      <td>0</td>\n",
       "    </tr>\n",
       "    <tr>\n",
       "      <th>3</th>\n",
       "      <td>3607.0</td>\n",
       "      <td>10</td>\n",
       "      <td>6</td>\n",
       "      <td>1</td>\n",
       "      <td>4.0</td>\n",
       "      <td>1</td>\n",
       "      <td>10</td>\n",
       "      <td>4</td>\n",
       "      <td>862.0</td>\n",
       "      <td>0</td>\n",
       "      <td>...</td>\n",
       "      <td>168966.0</td>\n",
       "      <td>0</td>\n",
       "      <td>0</td>\n",
       "      <td>1</td>\n",
       "      <td>1</td>\n",
       "      <td>0</td>\n",
       "      <td>0</td>\n",
       "      <td>1</td>\n",
       "      <td>0</td>\n",
       "      <td>0</td>\n",
       "    </tr>\n",
       "    <tr>\n",
       "      <th>4</th>\n",
       "      <td>11726.0</td>\n",
       "      <td>7</td>\n",
       "      <td>0</td>\n",
       "      <td>3</td>\n",
       "      <td>4.0</td>\n",
       "      <td>1</td>\n",
       "      <td>7</td>\n",
       "      <td>4</td>\n",
       "      <td>446.0</td>\n",
       "      <td>0</td>\n",
       "      <td>...</td>\n",
       "      <td>91901.0</td>\n",
       "      <td>0</td>\n",
       "      <td>1</td>\n",
       "      <td>0</td>\n",
       "      <td>1</td>\n",
       "      <td>0</td>\n",
       "      <td>0</td>\n",
       "      <td>1</td>\n",
       "      <td>0</td>\n",
       "      <td>0</td>\n",
       "    </tr>\n",
       "  </tbody>\n",
       "</table>\n",
       "<p>5 rows × 30 columns</p>\n",
       "</div>"
      ],
      "text/plain": [
       "     Price  Prod. year  Category  Fuel type  Cylinders  Gear box type  Color  \\\n",
       "0  13328.0          11         6          1        6.0              1      7   \n",
       "1  16621.0          10         6          3        6.0              3     11   \n",
       "2   8467.0          15         0          3        4.0              0     11   \n",
       "3   3607.0          10         6          1        4.0              1     10   \n",
       "4  11726.0           7         0          3        4.0              1      7   \n",
       "\n",
       "   Airbags  Levy_random  Model_Sonata  ...  Mileage_random  Drive wheels_Rear  \\\n",
       "0       12       1399.0             0  ...        186005.0                  0   \n",
       "1        8       1018.0             0  ...        192000.0                  0   \n",
       "2        2       1307.0             0  ...        200000.0                  0   \n",
       "3        4        862.0             0  ...        168966.0                  0   \n",
       "4        4        446.0             0  ...         91901.0                  0   \n",
       "\n",
       "   Drive wheels_Front  Drive wheels_4  Door=4  Door=2  Door>5  \\\n",
       "0                   0               1       1       0       0   \n",
       "1                   0               1       1       0       0   \n",
       "2                   1               0       1       0       0   \n",
       "3                   0               1       1       0       0   \n",
       "4                   1               0       1       0       0   \n",
       "\n",
       "   Leather interior_Yes  Wheel_Right-hand drive  Engine_Type_Turbo  \n",
       "0                     1                       0                  0  \n",
       "1                     0                       0                  0  \n",
       "2                     0                       1                  0  \n",
       "3                     1                       0                  0  \n",
       "4                     1                       0                  0  \n",
       "\n",
       "[5 rows x 30 columns]"
      ]
     },
     "execution_count": 113,
     "metadata": {},
     "output_type": "execute_result"
    }
   ],
   "source": [
    "data_combined.head()"
   ]
  },
  {
   "cell_type": "code",
   "execution_count": 114,
   "metadata": {},
   "outputs": [
    {
     "data": {
      "text/plain": [
       "(27482, 30)"
      ]
     },
     "execution_count": 114,
     "metadata": {},
     "output_type": "execute_result"
    }
   ],
   "source": [
    "data_combined.shape"
   ]
  },
  {
   "cell_type": "code",
   "execution_count": 115,
   "metadata": {},
   "outputs": [],
   "source": [
    "trainC = data_combined[data_combined[\"Price\"].notnull()] \n",
    "testC  = data_combined[data_combined[\"Price\"].isnull()]\n",
    "testC = testC.drop(['Price'], axis=1)"
   ]
  },
  {
   "cell_type": "code",
   "execution_count": 116,
   "metadata": {
    "scrolled": true
   },
   "outputs": [
    {
     "data": {
      "text/plain": [
       "((19237, 30), (8245, 29))"
      ]
     },
     "execution_count": 116,
     "metadata": {},
     "output_type": "execute_result"
    }
   ],
   "source": [
    "trainC.shape, testC.shape"
   ]
  },
  {
   "cell_type": "code",
   "execution_count": 117,
   "metadata": {},
   "outputs": [],
   "source": [
    "X = trainC.drop(['Price'], axis=1)\n",
    "Y = trainC['Price']"
   ]
  },
  {
   "cell_type": "code",
   "execution_count": 118,
   "metadata": {},
   "outputs": [],
   "source": [
    "X_col=X.columns\n"
   ]
  },
  {
   "cell_type": "code",
   "execution_count": 119,
   "metadata": {
    "scrolled": true
   },
   "outputs": [],
   "source": [
    "#from sklearn.preprocessing import StandardScaler\n",
    "#scaler = StandardScaler()"
   ]
  },
  {
   "cell_type": "code",
   "execution_count": 120,
   "metadata": {},
   "outputs": [],
   "source": [
    "#X=scaler.fit_transform(X)"
   ]
  },
  {
   "cell_type": "code",
   "execution_count": 121,
   "metadata": {},
   "outputs": [],
   "source": [
    "#from sklearn.preprocessing import MinMaxScaler\n",
    "#min_max=MinMaxScaler()"
   ]
  },
  {
   "cell_type": "code",
   "execution_count": 122,
   "metadata": {},
   "outputs": [],
   "source": [
    "#X=min_max.fit_transform(X)"
   ]
  },
  {
   "cell_type": "code",
   "execution_count": 123,
   "metadata": {},
   "outputs": [],
   "source": [
    "#from sklearn.preprocessing import RobustScaler\n",
    "#Robust = RobustScaler()"
   ]
  },
  {
   "cell_type": "code",
   "execution_count": 124,
   "metadata": {},
   "outputs": [],
   "source": [
    "#X = pd.DataFrame(X, columns=X_col)"
   ]
  },
  {
   "cell_type": "code",
   "execution_count": 125,
   "metadata": {},
   "outputs": [
    {
     "data": {
      "text/html": [
       "<div>\n",
       "<style scoped>\n",
       "    .dataframe tbody tr th:only-of-type {\n",
       "        vertical-align: middle;\n",
       "    }\n",
       "\n",
       "    .dataframe tbody tr th {\n",
       "        vertical-align: top;\n",
       "    }\n",
       "\n",
       "    .dataframe thead th {\n",
       "        text-align: right;\n",
       "    }\n",
       "</style>\n",
       "<table border=\"1\" class=\"dataframe\">\n",
       "  <thead>\n",
       "    <tr style=\"text-align: right;\">\n",
       "      <th></th>\n",
       "      <th>Prod. year</th>\n",
       "      <th>Category</th>\n",
       "      <th>Fuel type</th>\n",
       "      <th>Cylinders</th>\n",
       "      <th>Gear box type</th>\n",
       "      <th>Color</th>\n",
       "      <th>Airbags</th>\n",
       "      <th>Levy_random</th>\n",
       "      <th>Model_Sonata</th>\n",
       "      <th>Model_Prius</th>\n",
       "      <th>...</th>\n",
       "      <th>Mileage_random</th>\n",
       "      <th>Drive wheels_Rear</th>\n",
       "      <th>Drive wheels_Front</th>\n",
       "      <th>Drive wheels_4</th>\n",
       "      <th>Door=4</th>\n",
       "      <th>Door=2</th>\n",
       "      <th>Door&gt;5</th>\n",
       "      <th>Leather interior_Yes</th>\n",
       "      <th>Wheel_Right-hand drive</th>\n",
       "      <th>Engine_Type_Turbo</th>\n",
       "    </tr>\n",
       "  </thead>\n",
       "  <tbody>\n",
       "    <tr>\n",
       "      <th>0</th>\n",
       "      <td>11</td>\n",
       "      <td>6</td>\n",
       "      <td>1</td>\n",
       "      <td>6.0</td>\n",
       "      <td>1</td>\n",
       "      <td>7</td>\n",
       "      <td>12</td>\n",
       "      <td>1399.0</td>\n",
       "      <td>0</td>\n",
       "      <td>0</td>\n",
       "      <td>...</td>\n",
       "      <td>186005.0</td>\n",
       "      <td>0</td>\n",
       "      <td>0</td>\n",
       "      <td>1</td>\n",
       "      <td>1</td>\n",
       "      <td>0</td>\n",
       "      <td>0</td>\n",
       "      <td>1</td>\n",
       "      <td>0</td>\n",
       "      <td>0</td>\n",
       "    </tr>\n",
       "    <tr>\n",
       "      <th>1</th>\n",
       "      <td>10</td>\n",
       "      <td>6</td>\n",
       "      <td>3</td>\n",
       "      <td>6.0</td>\n",
       "      <td>3</td>\n",
       "      <td>11</td>\n",
       "      <td>8</td>\n",
       "      <td>1018.0</td>\n",
       "      <td>0</td>\n",
       "      <td>0</td>\n",
       "      <td>...</td>\n",
       "      <td>192000.0</td>\n",
       "      <td>0</td>\n",
       "      <td>0</td>\n",
       "      <td>1</td>\n",
       "      <td>1</td>\n",
       "      <td>0</td>\n",
       "      <td>0</td>\n",
       "      <td>0</td>\n",
       "      <td>0</td>\n",
       "      <td>0</td>\n",
       "    </tr>\n",
       "    <tr>\n",
       "      <th>2</th>\n",
       "      <td>15</td>\n",
       "      <td>0</td>\n",
       "      <td>3</td>\n",
       "      <td>4.0</td>\n",
       "      <td>0</td>\n",
       "      <td>11</td>\n",
       "      <td>2</td>\n",
       "      <td>1307.0</td>\n",
       "      <td>0</td>\n",
       "      <td>0</td>\n",
       "      <td>...</td>\n",
       "      <td>200000.0</td>\n",
       "      <td>0</td>\n",
       "      <td>1</td>\n",
       "      <td>0</td>\n",
       "      <td>1</td>\n",
       "      <td>0</td>\n",
       "      <td>0</td>\n",
       "      <td>0</td>\n",
       "      <td>1</td>\n",
       "      <td>0</td>\n",
       "    </tr>\n",
       "    <tr>\n",
       "      <th>3</th>\n",
       "      <td>10</td>\n",
       "      <td>6</td>\n",
       "      <td>1</td>\n",
       "      <td>4.0</td>\n",
       "      <td>1</td>\n",
       "      <td>10</td>\n",
       "      <td>4</td>\n",
       "      <td>862.0</td>\n",
       "      <td>0</td>\n",
       "      <td>0</td>\n",
       "      <td>...</td>\n",
       "      <td>168966.0</td>\n",
       "      <td>0</td>\n",
       "      <td>0</td>\n",
       "      <td>1</td>\n",
       "      <td>1</td>\n",
       "      <td>0</td>\n",
       "      <td>0</td>\n",
       "      <td>1</td>\n",
       "      <td>0</td>\n",
       "      <td>0</td>\n",
       "    </tr>\n",
       "    <tr>\n",
       "      <th>4</th>\n",
       "      <td>7</td>\n",
       "      <td>0</td>\n",
       "      <td>3</td>\n",
       "      <td>4.0</td>\n",
       "      <td>1</td>\n",
       "      <td>7</td>\n",
       "      <td>4</td>\n",
       "      <td>446.0</td>\n",
       "      <td>0</td>\n",
       "      <td>0</td>\n",
       "      <td>...</td>\n",
       "      <td>91901.0</td>\n",
       "      <td>0</td>\n",
       "      <td>1</td>\n",
       "      <td>0</td>\n",
       "      <td>1</td>\n",
       "      <td>0</td>\n",
       "      <td>0</td>\n",
       "      <td>1</td>\n",
       "      <td>0</td>\n",
       "      <td>0</td>\n",
       "    </tr>\n",
       "  </tbody>\n",
       "</table>\n",
       "<p>5 rows × 29 columns</p>\n",
       "</div>"
      ],
      "text/plain": [
       "   Prod. year  Category  Fuel type  Cylinders  Gear box type  Color  Airbags  \\\n",
       "0          11         6          1        6.0              1      7       12   \n",
       "1          10         6          3        6.0              3     11        8   \n",
       "2          15         0          3        4.0              0     11        2   \n",
       "3          10         6          1        4.0              1     10        4   \n",
       "4           7         0          3        4.0              1      7        4   \n",
       "\n",
       "   Levy_random  Model_Sonata  Model_Prius  ...  Mileage_random  \\\n",
       "0       1399.0             0            0  ...        186005.0   \n",
       "1       1018.0             0            0  ...        192000.0   \n",
       "2       1307.0             0            0  ...        200000.0   \n",
       "3        862.0             0            0  ...        168966.0   \n",
       "4        446.0             0            0  ...         91901.0   \n",
       "\n",
       "   Drive wheels_Rear  Drive wheels_Front  Drive wheels_4  Door=4  Door=2  \\\n",
       "0                  0                   0               1       1       0   \n",
       "1                  0                   0               1       1       0   \n",
       "2                  0                   1               0       1       0   \n",
       "3                  0                   0               1       1       0   \n",
       "4                  0                   1               0       1       0   \n",
       "\n",
       "   Door>5  Leather interior_Yes  Wheel_Right-hand drive  Engine_Type_Turbo  \n",
       "0       0                     1                       0                  0  \n",
       "1       0                     0                       0                  0  \n",
       "2       0                     0                       1                  0  \n",
       "3       0                     1                       0                  0  \n",
       "4       0                     1                       0                  0  \n",
       "\n",
       "[5 rows x 29 columns]"
      ]
     },
     "execution_count": 125,
     "metadata": {},
     "output_type": "execute_result"
    }
   ],
   "source": [
    "X.head()"
   ]
  },
  {
   "cell_type": "code",
   "execution_count": 126,
   "metadata": {},
   "outputs": [],
   "source": [
    "from sklearn.model_selection import train_test_split\n",
    "train_X, test_X, train_Y, test_Y =train_test_split(X, Y,train_size=0.7,random_state=70)"
   ]
  },
  {
   "cell_type": "code",
   "execution_count": 127,
   "metadata": {},
   "outputs": [
    {
     "data": {
      "text/html": [
       "<div>\n",
       "<style scoped>\n",
       "    .dataframe tbody tr th:only-of-type {\n",
       "        vertical-align: middle;\n",
       "    }\n",
       "\n",
       "    .dataframe tbody tr th {\n",
       "        vertical-align: top;\n",
       "    }\n",
       "\n",
       "    .dataframe thead th {\n",
       "        text-align: right;\n",
       "    }\n",
       "</style>\n",
       "<table border=\"1\" class=\"dataframe\">\n",
       "  <thead>\n",
       "    <tr style=\"text-align: right;\">\n",
       "      <th></th>\n",
       "      <th>Prod. year</th>\n",
       "      <th>Category</th>\n",
       "      <th>Fuel type</th>\n",
       "      <th>Cylinders</th>\n",
       "      <th>Gear box type</th>\n",
       "      <th>Color</th>\n",
       "      <th>Airbags</th>\n",
       "      <th>Levy_random</th>\n",
       "      <th>Model_Sonata</th>\n",
       "      <th>Model_Prius</th>\n",
       "      <th>...</th>\n",
       "      <th>Mileage_random</th>\n",
       "      <th>Drive wheels_Rear</th>\n",
       "      <th>Drive wheels_Front</th>\n",
       "      <th>Drive wheels_4</th>\n",
       "      <th>Door=4</th>\n",
       "      <th>Door=2</th>\n",
       "      <th>Door&gt;5</th>\n",
       "      <th>Leather interior_Yes</th>\n",
       "      <th>Wheel_Right-hand drive</th>\n",
       "      <th>Engine_Type_Turbo</th>\n",
       "    </tr>\n",
       "  </thead>\n",
       "  <tbody>\n",
       "    <tr>\n",
       "      <th>Prod. year</th>\n",
       "      <td>1.000000</td>\n",
       "      <td>0.017006</td>\n",
       "      <td>-0.034698</td>\n",
       "      <td>0.093660</td>\n",
       "      <td>0.216021</td>\n",
       "      <td>-0.096478</td>\n",
       "      <td>-0.257079</td>\n",
       "      <td>0.076917</td>\n",
       "      <td>-0.137283</td>\n",
       "      <td>0.001498</td>\n",
       "      <td>...</td>\n",
       "      <td>0.268376</td>\n",
       "      <td>0.301923</td>\n",
       "      <td>-0.255104</td>\n",
       "      <td>0.053157</td>\n",
       "      <td>-0.209745</td>\n",
       "      <td>0.208801</td>\n",
       "      <td>0.042482</td>\n",
       "      <td>-0.390860</td>\n",
       "      <td>0.219192</td>\n",
       "      <td>0.079937</td>\n",
       "    </tr>\n",
       "    <tr>\n",
       "      <th>Category</th>\n",
       "      <td>0.017006</td>\n",
       "      <td>1.000000</td>\n",
       "      <td>0.364626</td>\n",
       "      <td>0.218279</td>\n",
       "      <td>0.062778</td>\n",
       "      <td>0.034118</td>\n",
       "      <td>-0.068914</td>\n",
       "      <td>0.211871</td>\n",
       "      <td>-0.126800</td>\n",
       "      <td>-0.229536</td>\n",
       "      <td>...</td>\n",
       "      <td>0.020369</td>\n",
       "      <td>-0.034881</td>\n",
       "      <td>-0.308328</td>\n",
       "      <td>0.384109</td>\n",
       "      <td>-0.116758</td>\n",
       "      <td>0.116745</td>\n",
       "      <td>0.022473</td>\n",
       "      <td>0.143223</td>\n",
       "      <td>-0.150924</td>\n",
       "      <td>0.094231</td>\n",
       "    </tr>\n",
       "    <tr>\n",
       "      <th>Fuel type</th>\n",
       "      <td>-0.034698</td>\n",
       "      <td>0.364626</td>\n",
       "      <td>1.000000</td>\n",
       "      <td>0.033628</td>\n",
       "      <td>0.050594</td>\n",
       "      <td>0.047154</td>\n",
       "      <td>-0.182936</td>\n",
       "      <td>0.114671</td>\n",
       "      <td>-0.141288</td>\n",
       "      <td>-0.277052</td>\n",
       "      <td>...</td>\n",
       "      <td>-0.077102</td>\n",
       "      <td>0.115018</td>\n",
       "      <td>-0.104421</td>\n",
       "      <td>0.028613</td>\n",
       "      <td>-0.063800</td>\n",
       "      <td>0.063303</td>\n",
       "      <td>0.013402</td>\n",
       "      <td>0.124856</td>\n",
       "      <td>-0.118464</td>\n",
       "      <td>0.228640</td>\n",
       "    </tr>\n",
       "    <tr>\n",
       "      <th>Cylinders</th>\n",
       "      <td>0.093660</td>\n",
       "      <td>0.218279</td>\n",
       "      <td>0.033628</td>\n",
       "      <td>1.000000</td>\n",
       "      <td>0.156979</td>\n",
       "      <td>0.059945</td>\n",
       "      <td>0.246933</td>\n",
       "      <td>0.397219</td>\n",
       "      <td>-0.115050</td>\n",
       "      <td>-0.115859</td>\n",
       "      <td>...</td>\n",
       "      <td>0.136038</td>\n",
       "      <td>0.229899</td>\n",
       "      <td>-0.578206</td>\n",
       "      <td>0.484051</td>\n",
       "      <td>-0.058983</td>\n",
       "      <td>0.052697</td>\n",
       "      <td>0.025717</td>\n",
       "      <td>0.209253</td>\n",
       "      <td>-0.094932</td>\n",
       "      <td>0.039786</td>\n",
       "    </tr>\n",
       "    <tr>\n",
       "      <th>Gear box type</th>\n",
       "      <td>0.216021</td>\n",
       "      <td>0.062778</td>\n",
       "      <td>0.050594</td>\n",
       "      <td>0.156979</td>\n",
       "      <td>1.000000</td>\n",
       "      <td>0.031527</td>\n",
       "      <td>0.123044</td>\n",
       "      <td>-0.010757</td>\n",
       "      <td>-0.072056</td>\n",
       "      <td>-0.159444</td>\n",
       "      <td>...</td>\n",
       "      <td>-0.029201</td>\n",
       "      <td>0.258692</td>\n",
       "      <td>-0.235077</td>\n",
       "      <td>0.064608</td>\n",
       "      <td>-0.161461</td>\n",
       "      <td>0.151759</td>\n",
       "      <td>0.053235</td>\n",
       "      <td>-0.140970</td>\n",
       "      <td>-0.062353</td>\n",
       "      <td>0.360393</td>\n",
       "    </tr>\n",
       "    <tr>\n",
       "      <th>Color</th>\n",
       "      <td>-0.096478</td>\n",
       "      <td>0.034118</td>\n",
       "      <td>0.047154</td>\n",
       "      <td>0.059945</td>\n",
       "      <td>0.031527</td>\n",
       "      <td>1.000000</td>\n",
       "      <td>0.097284</td>\n",
       "      <td>0.014456</td>\n",
       "      <td>-0.141777</td>\n",
       "      <td>-0.002241</td>\n",
       "      <td>...</td>\n",
       "      <td>-0.087378</td>\n",
       "      <td>0.018849</td>\n",
       "      <td>-0.043524</td>\n",
       "      <td>0.035202</td>\n",
       "      <td>0.035531</td>\n",
       "      <td>-0.033615</td>\n",
       "      <td>-0.011213</td>\n",
       "      <td>0.072675</td>\n",
       "      <td>-0.076246</td>\n",
       "      <td>0.015363</td>\n",
       "    </tr>\n",
       "    <tr>\n",
       "      <th>Airbags</th>\n",
       "      <td>-0.257079</td>\n",
       "      <td>-0.068914</td>\n",
       "      <td>-0.182936</td>\n",
       "      <td>0.246933</td>\n",
       "      <td>0.123044</td>\n",
       "      <td>0.097284</td>\n",
       "      <td>1.000000</td>\n",
       "      <td>0.090735</td>\n",
       "      <td>-0.127422</td>\n",
       "      <td>0.116400</td>\n",
       "      <td>...</td>\n",
       "      <td>-0.027521</td>\n",
       "      <td>0.062418</td>\n",
       "      <td>-0.191699</td>\n",
       "      <td>0.171525</td>\n",
       "      <td>0.044864</td>\n",
       "      <td>-0.050214</td>\n",
       "      <td>0.003614</td>\n",
       "      <td>0.198070</td>\n",
       "      <td>-0.190408</td>\n",
       "      <td>0.040751</td>\n",
       "    </tr>\n",
       "    <tr>\n",
       "      <th>Levy_random</th>\n",
       "      <td>0.076917</td>\n",
       "      <td>0.211871</td>\n",
       "      <td>0.114671</td>\n",
       "      <td>0.397219</td>\n",
       "      <td>-0.010757</td>\n",
       "      <td>0.014456</td>\n",
       "      <td>0.090735</td>\n",
       "      <td>1.000000</td>\n",
       "      <td>-0.071330</td>\n",
       "      <td>-0.095729</td>\n",
       "      <td>...</td>\n",
       "      <td>0.055488</td>\n",
       "      <td>0.109038</td>\n",
       "      <td>-0.334161</td>\n",
       "      <td>0.298808</td>\n",
       "      <td>-0.038088</td>\n",
       "      <td>0.035175</td>\n",
       "      <td>0.013987</td>\n",
       "      <td>0.013313</td>\n",
       "      <td>0.077149</td>\n",
       "      <td>-0.022187</td>\n",
       "    </tr>\n",
       "    <tr>\n",
       "      <th>Model_Sonata</th>\n",
       "      <td>-0.137283</td>\n",
       "      <td>-0.126800</td>\n",
       "      <td>-0.141288</td>\n",
       "      <td>-0.115050</td>\n",
       "      <td>-0.072056</td>\n",
       "      <td>-0.141777</td>\n",
       "      <td>-0.127422</td>\n",
       "      <td>-0.071330</td>\n",
       "      <td>1.000000</td>\n",
       "      <td>-0.060027</td>\n",
       "      <td>...</td>\n",
       "      <td>0.187710</td>\n",
       "      <td>-0.087905</td>\n",
       "      <td>0.170268</td>\n",
       "      <td>-0.126376</td>\n",
       "      <td>0.054240</td>\n",
       "      <td>-0.050996</td>\n",
       "      <td>-0.017849</td>\n",
       "      <td>0.115419</td>\n",
       "      <td>-0.069280</td>\n",
       "      <td>-0.072694</td>\n",
       "    </tr>\n",
       "    <tr>\n",
       "      <th>Model_Prius</th>\n",
       "      <td>0.001498</td>\n",
       "      <td>-0.229536</td>\n",
       "      <td>-0.277052</td>\n",
       "      <td>-0.115859</td>\n",
       "      <td>-0.159444</td>\n",
       "      <td>-0.002241</td>\n",
       "      <td>0.116400</td>\n",
       "      <td>-0.095729</td>\n",
       "      <td>-0.060027</td>\n",
       "      <td>1.000000</td>\n",
       "      <td>...</td>\n",
       "      <td>0.092160</td>\n",
       "      <td>-0.087710</td>\n",
       "      <td>0.165120</td>\n",
       "      <td>-0.120584</td>\n",
       "      <td>0.046678</td>\n",
       "      <td>-0.049276</td>\n",
       "      <td>-0.003032</td>\n",
       "      <td>-0.134689</td>\n",
       "      <td>-0.059300</td>\n",
       "      <td>-0.075704</td>\n",
       "    </tr>\n",
       "    <tr>\n",
       "      <th>Model_Camry</th>\n",
       "      <td>-0.111535</td>\n",
       "      <td>-0.115389</td>\n",
       "      <td>-0.175918</td>\n",
       "      <td>-0.085032</td>\n",
       "      <td>0.003743</td>\n",
       "      <td>0.049329</td>\n",
       "      <td>0.225205</td>\n",
       "      <td>-0.065504</td>\n",
       "      <td>-0.055504</td>\n",
       "      <td>-0.055388</td>\n",
       "      <td>...</td>\n",
       "      <td>-0.012910</td>\n",
       "      <td>-0.077485</td>\n",
       "      <td>0.152397</td>\n",
       "      <td>-0.114067</td>\n",
       "      <td>0.043435</td>\n",
       "      <td>-0.043592</td>\n",
       "      <td>-0.007990</td>\n",
       "      <td>0.059358</td>\n",
       "      <td>-0.063925</td>\n",
       "      <td>-0.070196</td>\n",
       "    </tr>\n",
       "    <tr>\n",
       "      <th>Model_Elantra</th>\n",
       "      <td>-0.098489</td>\n",
       "      <td>-0.112748</td>\n",
       "      <td>-0.008125</td>\n",
       "      <td>-0.099936</td>\n",
       "      <td>-0.022573</td>\n",
       "      <td>0.003215</td>\n",
       "      <td>-0.035608</td>\n",
       "      <td>-0.116853</td>\n",
       "      <td>-0.054156</td>\n",
       "      <td>-0.054044</td>\n",
       "      <td>...</td>\n",
       "      <td>-0.088664</td>\n",
       "      <td>-0.078555</td>\n",
       "      <td>0.152889</td>\n",
       "      <td>-0.113778</td>\n",
       "      <td>0.042008</td>\n",
       "      <td>-0.040603</td>\n",
       "      <td>-0.011290</td>\n",
       "      <td>0.049427</td>\n",
       "      <td>-0.059677</td>\n",
       "      <td>-0.071734</td>\n",
       "    </tr>\n",
       "    <tr>\n",
       "      <th>Model_E 350</th>\n",
       "      <td>-0.014394</td>\n",
       "      <td>-0.074393</td>\n",
       "      <td>0.211761</td>\n",
       "      <td>0.217935</td>\n",
       "      <td>-0.040272</td>\n",
       "      <td>0.034310</td>\n",
       "      <td>0.209110</td>\n",
       "      <td>0.170206</td>\n",
       "      <td>-0.041682</td>\n",
       "      <td>-0.041596</td>\n",
       "      <td>...</td>\n",
       "      <td>0.070808</td>\n",
       "      <td>0.189612</td>\n",
       "      <td>-0.240940</td>\n",
       "      <td>0.126649</td>\n",
       "      <td>-0.023814</td>\n",
       "      <td>0.030083</td>\n",
       "      <td>-0.009761</td>\n",
       "      <td>0.103862</td>\n",
       "      <td>-0.048007</td>\n",
       "      <td>-0.037628</td>\n",
       "    </tr>\n",
       "    <tr>\n",
       "      <th>Model_Santa FE</th>\n",
       "      <td>-0.106044</td>\n",
       "      <td>0.185166</td>\n",
       "      <td>0.250659</td>\n",
       "      <td>-0.075034</td>\n",
       "      <td>-0.072147</td>\n",
       "      <td>0.038596</td>\n",
       "      <td>-0.109472</td>\n",
       "      <td>-0.021421</td>\n",
       "      <td>-0.040997</td>\n",
       "      <td>-0.040911</td>\n",
       "      <td>...</td>\n",
       "      <td>-0.053756</td>\n",
       "      <td>-0.061926</td>\n",
       "      <td>0.101906</td>\n",
       "      <td>-0.068184</td>\n",
       "      <td>0.029524</td>\n",
       "      <td>-0.027881</td>\n",
       "      <td>-0.009434</td>\n",
       "      <td>0.099054</td>\n",
       "      <td>-0.047217</td>\n",
       "      <td>-0.053045</td>\n",
       "    </tr>\n",
       "    <tr>\n",
       "      <th>Model_H1</th>\n",
       "      <td>-0.070774</td>\n",
       "      <td>0.141596</td>\n",
       "      <td>0.250372</td>\n",
       "      <td>-0.073283</td>\n",
       "      <td>-0.071521</td>\n",
       "      <td>-0.012369</td>\n",
       "      <td>-0.125849</td>\n",
       "      <td>0.050879</td>\n",
       "      <td>-0.037525</td>\n",
       "      <td>-0.037447</td>\n",
       "      <td>...</td>\n",
       "      <td>-0.042173</td>\n",
       "      <td>-0.052108</td>\n",
       "      <td>0.104328</td>\n",
       "      <td>-0.078838</td>\n",
       "      <td>0.030165</td>\n",
       "      <td>-0.031813</td>\n",
       "      <td>-0.002030</td>\n",
       "      <td>0.093297</td>\n",
       "      <td>-0.043219</td>\n",
       "      <td>-0.048031</td>\n",
       "    </tr>\n",
       "    <tr>\n",
       "      <th>Model_FIT</th>\n",
       "      <td>0.019346</td>\n",
       "      <td>-0.161263</td>\n",
       "      <td>-0.060461</td>\n",
       "      <td>-0.071092</td>\n",
       "      <td>-0.086700</td>\n",
       "      <td>0.000363</td>\n",
       "      <td>-0.107925</td>\n",
       "      <td>-0.020706</td>\n",
       "      <td>-0.036451</td>\n",
       "      <td>-0.036376</td>\n",
       "      <td>...</td>\n",
       "      <td>-0.040068</td>\n",
       "      <td>-0.055060</td>\n",
       "      <td>0.096820</td>\n",
       "      <td>-0.067801</td>\n",
       "      <td>0.029041</td>\n",
       "      <td>-0.030902</td>\n",
       "      <td>-0.001325</td>\n",
       "      <td>-0.122007</td>\n",
       "      <td>0.328963</td>\n",
       "      <td>-0.048164</td>\n",
       "    </tr>\n",
       "    <tr>\n",
       "      <th>Model_Tucson</th>\n",
       "      <td>-0.075188</td>\n",
       "      <td>0.173256</td>\n",
       "      <td>0.214746</td>\n",
       "      <td>-0.074234</td>\n",
       "      <td>-0.049827</td>\n",
       "      <td>0.017067</td>\n",
       "      <td>-0.111146</td>\n",
       "      <td>-0.042647</td>\n",
       "      <td>-0.037588</td>\n",
       "      <td>-0.037509</td>\n",
       "      <td>...</td>\n",
       "      <td>-0.048686</td>\n",
       "      <td>-0.056776</td>\n",
       "      <td>0.091859</td>\n",
       "      <td>-0.060697</td>\n",
       "      <td>0.034821</td>\n",
       "      <td>-0.031866</td>\n",
       "      <td>-0.013456</td>\n",
       "      <td>0.087907</td>\n",
       "      <td>-0.041395</td>\n",
       "      <td>-0.046477</td>\n",
       "    </tr>\n",
       "    <tr>\n",
       "      <th>Model_X5</th>\n",
       "      <td>0.020097</td>\n",
       "      <td>0.141382</td>\n",
       "      <td>0.113040</td>\n",
       "      <td>0.188920</td>\n",
       "      <td>0.057109</td>\n",
       "      <td>0.038868</td>\n",
       "      <td>0.009005</td>\n",
       "      <td>0.040469</td>\n",
       "      <td>-0.032970</td>\n",
       "      <td>-0.032901</td>\n",
       "      <td>...</td>\n",
       "      <td>0.054889</td>\n",
       "      <td>-0.041168</td>\n",
       "      <td>-0.188941</td>\n",
       "      <td>0.251214</td>\n",
       "      <td>0.027940</td>\n",
       "      <td>-0.027950</td>\n",
       "      <td>-0.005347</td>\n",
       "      <td>0.082947</td>\n",
       "      <td>-0.035822</td>\n",
       "      <td>0.040711</td>\n",
       "    </tr>\n",
       "    <tr>\n",
       "      <th>Engine volume_random</th>\n",
       "      <td>0.027654</td>\n",
       "      <td>0.308327</td>\n",
       "      <td>0.077207</td>\n",
       "      <td>0.778825</td>\n",
       "      <td>0.116263</td>\n",
       "      <td>0.065012</td>\n",
       "      <td>0.292537</td>\n",
       "      <td>0.468282</td>\n",
       "      <td>-0.044693</td>\n",
       "      <td>-0.165957</td>\n",
       "      <td>...</td>\n",
       "      <td>0.156071</td>\n",
       "      <td>0.211783</td>\n",
       "      <td>-0.564586</td>\n",
       "      <td>0.482809</td>\n",
       "      <td>-0.030844</td>\n",
       "      <td>0.028607</td>\n",
       "      <td>0.011045</td>\n",
       "      <td>0.280391</td>\n",
       "      <td>-0.188525</td>\n",
       "      <td>-0.016193</td>\n",
       "    </tr>\n",
       "    <tr>\n",
       "      <th>Mileage_random</th>\n",
       "      <td>0.268376</td>\n",
       "      <td>0.020369</td>\n",
       "      <td>-0.077102</td>\n",
       "      <td>0.136038</td>\n",
       "      <td>-0.029201</td>\n",
       "      <td>-0.087378</td>\n",
       "      <td>-0.027521</td>\n",
       "      <td>0.055488</td>\n",
       "      <td>0.187710</td>\n",
       "      <td>0.092160</td>\n",
       "      <td>...</td>\n",
       "      <td>1.000000</td>\n",
       "      <td>0.065803</td>\n",
       "      <td>-0.142150</td>\n",
       "      <td>0.111575</td>\n",
       "      <td>-0.001453</td>\n",
       "      <td>0.003935</td>\n",
       "      <td>-0.005400</td>\n",
       "      <td>-0.007786</td>\n",
       "      <td>-0.012387</td>\n",
       "      <td>-0.004437</td>\n",
       "    </tr>\n",
       "    <tr>\n",
       "      <th>Drive wheels_Rear</th>\n",
       "      <td>0.301923</td>\n",
       "      <td>-0.034881</td>\n",
       "      <td>0.115018</td>\n",
       "      <td>0.229899</td>\n",
       "      <td>0.258692</td>\n",
       "      <td>0.018849</td>\n",
       "      <td>0.062418</td>\n",
       "      <td>0.109038</td>\n",
       "      <td>-0.087905</td>\n",
       "      <td>-0.087710</td>\n",
       "      <td>...</td>\n",
       "      <td>0.065803</td>\n",
       "      <td>1.000000</td>\n",
       "      <td>-0.527295</td>\n",
       "      <td>-0.190893</td>\n",
       "      <td>-0.232383</td>\n",
       "      <td>0.236389</td>\n",
       "      <td>0.035507</td>\n",
       "      <td>-0.042803</td>\n",
       "      <td>-0.034057</td>\n",
       "      <td>0.199325</td>\n",
       "    </tr>\n",
       "    <tr>\n",
       "      <th>Drive wheels_Front</th>\n",
       "      <td>-0.255104</td>\n",
       "      <td>-0.308328</td>\n",
       "      <td>-0.104421</td>\n",
       "      <td>-0.578206</td>\n",
       "      <td>-0.235077</td>\n",
       "      <td>-0.043524</td>\n",
       "      <td>-0.191699</td>\n",
       "      <td>-0.334161</td>\n",
       "      <td>0.170268</td>\n",
       "      <td>0.165120</td>\n",
       "      <td>...</td>\n",
       "      <td>-0.142150</td>\n",
       "      <td>-0.527295</td>\n",
       "      <td>1.000000</td>\n",
       "      <td>-0.733401</td>\n",
       "      <td>0.140705</td>\n",
       "      <td>-0.137510</td>\n",
       "      <td>-0.034358</td>\n",
       "      <td>-0.053734</td>\n",
       "      <td>0.027059</td>\n",
       "      <td>-0.187388</td>\n",
       "    </tr>\n",
       "    <tr>\n",
       "      <th>Drive wheels_4</th>\n",
       "      <td>0.053157</td>\n",
       "      <td>0.384109</td>\n",
       "      <td>0.028613</td>\n",
       "      <td>0.484051</td>\n",
       "      <td>0.064608</td>\n",
       "      <td>0.035202</td>\n",
       "      <td>0.171525</td>\n",
       "      <td>0.298808</td>\n",
       "      <td>-0.126376</td>\n",
       "      <td>-0.120584</td>\n",
       "      <td>...</td>\n",
       "      <td>0.111575</td>\n",
       "      <td>-0.190893</td>\n",
       "      <td>-0.733401</td>\n",
       "      <td>1.000000</td>\n",
       "      <td>0.023368</td>\n",
       "      <td>-0.030264</td>\n",
       "      <td>0.011285</td>\n",
       "      <td>0.096322</td>\n",
       "      <td>-0.004012</td>\n",
       "      <td>0.057012</td>\n",
       "    </tr>\n",
       "    <tr>\n",
       "      <th>Door=4</th>\n",
       "      <td>-0.209745</td>\n",
       "      <td>-0.116758</td>\n",
       "      <td>-0.063800</td>\n",
       "      <td>-0.058983</td>\n",
       "      <td>-0.161461</td>\n",
       "      <td>0.035531</td>\n",
       "      <td>0.044864</td>\n",
       "      <td>-0.038088</td>\n",
       "      <td>0.054240</td>\n",
       "      <td>0.046678</td>\n",
       "      <td>...</td>\n",
       "      <td>-0.001453</td>\n",
       "      <td>-0.232383</td>\n",
       "      <td>0.140705</td>\n",
       "      <td>0.023368</td>\n",
       "      <td>1.000000</td>\n",
       "      <td>-0.915117</td>\n",
       "      <td>-0.386416</td>\n",
       "      <td>0.121320</td>\n",
       "      <td>-0.013344</td>\n",
       "      <td>-0.123277</td>\n",
       "    </tr>\n",
       "    <tr>\n",
       "      <th>Door=2</th>\n",
       "      <td>0.208801</td>\n",
       "      <td>0.116745</td>\n",
       "      <td>0.063303</td>\n",
       "      <td>0.052697</td>\n",
       "      <td>0.151759</td>\n",
       "      <td>-0.033615</td>\n",
       "      <td>-0.050214</td>\n",
       "      <td>0.035175</td>\n",
       "      <td>-0.050996</td>\n",
       "      <td>-0.049276</td>\n",
       "      <td>...</td>\n",
       "      <td>0.003935</td>\n",
       "      <td>0.236389</td>\n",
       "      <td>-0.137510</td>\n",
       "      <td>-0.030264</td>\n",
       "      <td>-0.915117</td>\n",
       "      <td>1.000000</td>\n",
       "      <td>-0.018255</td>\n",
       "      <td>-0.115175</td>\n",
       "      <td>0.011063</td>\n",
       "      <td>0.108202</td>\n",
       "    </tr>\n",
       "    <tr>\n",
       "      <th>Door&gt;5</th>\n",
       "      <td>0.042482</td>\n",
       "      <td>0.022473</td>\n",
       "      <td>0.013402</td>\n",
       "      <td>0.025717</td>\n",
       "      <td>0.053235</td>\n",
       "      <td>-0.011213</td>\n",
       "      <td>0.003614</td>\n",
       "      <td>0.013987</td>\n",
       "      <td>-0.017849</td>\n",
       "      <td>-0.003032</td>\n",
       "      <td>...</td>\n",
       "      <td>-0.005400</td>\n",
       "      <td>0.035507</td>\n",
       "      <td>-0.034358</td>\n",
       "      <td>0.011285</td>\n",
       "      <td>-0.386416</td>\n",
       "      <td>-0.018255</td>\n",
       "      <td>1.000000</td>\n",
       "      <td>-0.037380</td>\n",
       "      <td>0.007784</td>\n",
       "      <td>0.058183</td>\n",
       "    </tr>\n",
       "    <tr>\n",
       "      <th>Leather interior_Yes</th>\n",
       "      <td>-0.390860</td>\n",
       "      <td>0.143223</td>\n",
       "      <td>0.124856</td>\n",
       "      <td>0.209253</td>\n",
       "      <td>-0.140970</td>\n",
       "      <td>0.072675</td>\n",
       "      <td>0.198070</td>\n",
       "      <td>0.013313</td>\n",
       "      <td>0.115419</td>\n",
       "      <td>-0.134689</td>\n",
       "      <td>...</td>\n",
       "      <td>-0.007786</td>\n",
       "      <td>-0.042803</td>\n",
       "      <td>-0.053734</td>\n",
       "      <td>0.096322</td>\n",
       "      <td>0.121320</td>\n",
       "      <td>-0.115175</td>\n",
       "      <td>-0.037380</td>\n",
       "      <td>1.000000</td>\n",
       "      <td>-0.345980</td>\n",
       "      <td>-0.106605</td>\n",
       "    </tr>\n",
       "    <tr>\n",
       "      <th>Wheel_Right-hand drive</th>\n",
       "      <td>0.219192</td>\n",
       "      <td>-0.150924</td>\n",
       "      <td>-0.118464</td>\n",
       "      <td>-0.094932</td>\n",
       "      <td>-0.062353</td>\n",
       "      <td>-0.076246</td>\n",
       "      <td>-0.190408</td>\n",
       "      <td>0.077149</td>\n",
       "      <td>-0.069280</td>\n",
       "      <td>-0.059300</td>\n",
       "      <td>...</td>\n",
       "      <td>-0.012387</td>\n",
       "      <td>-0.034057</td>\n",
       "      <td>0.027059</td>\n",
       "      <td>-0.004012</td>\n",
       "      <td>-0.013344</td>\n",
       "      <td>0.011063</td>\n",
       "      <td>0.007784</td>\n",
       "      <td>-0.345980</td>\n",
       "      <td>1.000000</td>\n",
       "      <td>-0.032619</td>\n",
       "    </tr>\n",
       "    <tr>\n",
       "      <th>Engine_Type_Turbo</th>\n",
       "      <td>0.079937</td>\n",
       "      <td>0.094231</td>\n",
       "      <td>0.228640</td>\n",
       "      <td>0.039786</td>\n",
       "      <td>0.360393</td>\n",
       "      <td>0.015363</td>\n",
       "      <td>0.040751</td>\n",
       "      <td>-0.022187</td>\n",
       "      <td>-0.072694</td>\n",
       "      <td>-0.075704</td>\n",
       "      <td>...</td>\n",
       "      <td>-0.004437</td>\n",
       "      <td>0.199325</td>\n",
       "      <td>-0.187388</td>\n",
       "      <td>0.057012</td>\n",
       "      <td>-0.123277</td>\n",
       "      <td>0.108202</td>\n",
       "      <td>0.058183</td>\n",
       "      <td>-0.106605</td>\n",
       "      <td>-0.032619</td>\n",
       "      <td>1.000000</td>\n",
       "    </tr>\n",
       "  </tbody>\n",
       "</table>\n",
       "<p>29 rows × 29 columns</p>\n",
       "</div>"
      ],
      "text/plain": [
       "                        Prod. year  Category  Fuel type  Cylinders  \\\n",
       "Prod. year                1.000000  0.017006  -0.034698   0.093660   \n",
       "Category                  0.017006  1.000000   0.364626   0.218279   \n",
       "Fuel type                -0.034698  0.364626   1.000000   0.033628   \n",
       "Cylinders                 0.093660  0.218279   0.033628   1.000000   \n",
       "Gear box type             0.216021  0.062778   0.050594   0.156979   \n",
       "Color                    -0.096478  0.034118   0.047154   0.059945   \n",
       "Airbags                  -0.257079 -0.068914  -0.182936   0.246933   \n",
       "Levy_random               0.076917  0.211871   0.114671   0.397219   \n",
       "Model_Sonata             -0.137283 -0.126800  -0.141288  -0.115050   \n",
       "Model_Prius               0.001498 -0.229536  -0.277052  -0.115859   \n",
       "Model_Camry              -0.111535 -0.115389  -0.175918  -0.085032   \n",
       "Model_Elantra            -0.098489 -0.112748  -0.008125  -0.099936   \n",
       "Model_E 350              -0.014394 -0.074393   0.211761   0.217935   \n",
       "Model_Santa FE           -0.106044  0.185166   0.250659  -0.075034   \n",
       "Model_H1                 -0.070774  0.141596   0.250372  -0.073283   \n",
       "Model_FIT                 0.019346 -0.161263  -0.060461  -0.071092   \n",
       "Model_Tucson             -0.075188  0.173256   0.214746  -0.074234   \n",
       "Model_X5                  0.020097  0.141382   0.113040   0.188920   \n",
       "Engine volume_random      0.027654  0.308327   0.077207   0.778825   \n",
       "Mileage_random            0.268376  0.020369  -0.077102   0.136038   \n",
       "Drive wheels_Rear         0.301923 -0.034881   0.115018   0.229899   \n",
       "Drive wheels_Front       -0.255104 -0.308328  -0.104421  -0.578206   \n",
       "Drive wheels_4            0.053157  0.384109   0.028613   0.484051   \n",
       "Door=4                   -0.209745 -0.116758  -0.063800  -0.058983   \n",
       "Door=2                    0.208801  0.116745   0.063303   0.052697   \n",
       "Door>5                    0.042482  0.022473   0.013402   0.025717   \n",
       "Leather interior_Yes     -0.390860  0.143223   0.124856   0.209253   \n",
       "Wheel_Right-hand drive    0.219192 -0.150924  -0.118464  -0.094932   \n",
       "Engine_Type_Turbo         0.079937  0.094231   0.228640   0.039786   \n",
       "\n",
       "                        Gear box type     Color   Airbags  Levy_random  \\\n",
       "Prod. year                   0.216021 -0.096478 -0.257079     0.076917   \n",
       "Category                     0.062778  0.034118 -0.068914     0.211871   \n",
       "Fuel type                    0.050594  0.047154 -0.182936     0.114671   \n",
       "Cylinders                    0.156979  0.059945  0.246933     0.397219   \n",
       "Gear box type                1.000000  0.031527  0.123044    -0.010757   \n",
       "Color                        0.031527  1.000000  0.097284     0.014456   \n",
       "Airbags                      0.123044  0.097284  1.000000     0.090735   \n",
       "Levy_random                 -0.010757  0.014456  0.090735     1.000000   \n",
       "Model_Sonata                -0.072056 -0.141777 -0.127422    -0.071330   \n",
       "Model_Prius                 -0.159444 -0.002241  0.116400    -0.095729   \n",
       "Model_Camry                  0.003743  0.049329  0.225205    -0.065504   \n",
       "Model_Elantra               -0.022573  0.003215 -0.035608    -0.116853   \n",
       "Model_E 350                 -0.040272  0.034310  0.209110     0.170206   \n",
       "Model_Santa FE              -0.072147  0.038596 -0.109472    -0.021421   \n",
       "Model_H1                    -0.071521 -0.012369 -0.125849     0.050879   \n",
       "Model_FIT                   -0.086700  0.000363 -0.107925    -0.020706   \n",
       "Model_Tucson                -0.049827  0.017067 -0.111146    -0.042647   \n",
       "Model_X5                     0.057109  0.038868  0.009005     0.040469   \n",
       "Engine volume_random         0.116263  0.065012  0.292537     0.468282   \n",
       "Mileage_random              -0.029201 -0.087378 -0.027521     0.055488   \n",
       "Drive wheels_Rear            0.258692  0.018849  0.062418     0.109038   \n",
       "Drive wheels_Front          -0.235077 -0.043524 -0.191699    -0.334161   \n",
       "Drive wheels_4               0.064608  0.035202  0.171525     0.298808   \n",
       "Door=4                      -0.161461  0.035531  0.044864    -0.038088   \n",
       "Door=2                       0.151759 -0.033615 -0.050214     0.035175   \n",
       "Door>5                       0.053235 -0.011213  0.003614     0.013987   \n",
       "Leather interior_Yes        -0.140970  0.072675  0.198070     0.013313   \n",
       "Wheel_Right-hand drive      -0.062353 -0.076246 -0.190408     0.077149   \n",
       "Engine_Type_Turbo            0.360393  0.015363  0.040751    -0.022187   \n",
       "\n",
       "                        Model_Sonata  Model_Prius  ...  Mileage_random  \\\n",
       "Prod. year                 -0.137283     0.001498  ...        0.268376   \n",
       "Category                   -0.126800    -0.229536  ...        0.020369   \n",
       "Fuel type                  -0.141288    -0.277052  ...       -0.077102   \n",
       "Cylinders                  -0.115050    -0.115859  ...        0.136038   \n",
       "Gear box type              -0.072056    -0.159444  ...       -0.029201   \n",
       "Color                      -0.141777    -0.002241  ...       -0.087378   \n",
       "Airbags                    -0.127422     0.116400  ...       -0.027521   \n",
       "Levy_random                -0.071330    -0.095729  ...        0.055488   \n",
       "Model_Sonata                1.000000    -0.060027  ...        0.187710   \n",
       "Model_Prius                -0.060027     1.000000  ...        0.092160   \n",
       "Model_Camry                -0.055504    -0.055388  ...       -0.012910   \n",
       "Model_Elantra              -0.054156    -0.054044  ...       -0.088664   \n",
       "Model_E 350                -0.041682    -0.041596  ...        0.070808   \n",
       "Model_Santa FE             -0.040997    -0.040911  ...       -0.053756   \n",
       "Model_H1                   -0.037525    -0.037447  ...       -0.042173   \n",
       "Model_FIT                  -0.036451    -0.036376  ...       -0.040068   \n",
       "Model_Tucson               -0.037588    -0.037509  ...       -0.048686   \n",
       "Model_X5                   -0.032970    -0.032901  ...        0.054889   \n",
       "Engine volume_random       -0.044693    -0.165957  ...        0.156071   \n",
       "Mileage_random              0.187710     0.092160  ...        1.000000   \n",
       "Drive wheels_Rear          -0.087905    -0.087710  ...        0.065803   \n",
       "Drive wheels_Front          0.170268     0.165120  ...       -0.142150   \n",
       "Drive wheels_4             -0.126376    -0.120584  ...        0.111575   \n",
       "Door=4                      0.054240     0.046678  ...       -0.001453   \n",
       "Door=2                     -0.050996    -0.049276  ...        0.003935   \n",
       "Door>5                     -0.017849    -0.003032  ...       -0.005400   \n",
       "Leather interior_Yes        0.115419    -0.134689  ...       -0.007786   \n",
       "Wheel_Right-hand drive     -0.069280    -0.059300  ...       -0.012387   \n",
       "Engine_Type_Turbo          -0.072694    -0.075704  ...       -0.004437   \n",
       "\n",
       "                        Drive wheels_Rear  Drive wheels_Front  Drive wheels_4  \\\n",
       "Prod. year                       0.301923           -0.255104        0.053157   \n",
       "Category                        -0.034881           -0.308328        0.384109   \n",
       "Fuel type                        0.115018           -0.104421        0.028613   \n",
       "Cylinders                        0.229899           -0.578206        0.484051   \n",
       "Gear box type                    0.258692           -0.235077        0.064608   \n",
       "Color                            0.018849           -0.043524        0.035202   \n",
       "Airbags                          0.062418           -0.191699        0.171525   \n",
       "Levy_random                      0.109038           -0.334161        0.298808   \n",
       "Model_Sonata                    -0.087905            0.170268       -0.126376   \n",
       "Model_Prius                     -0.087710            0.165120       -0.120584   \n",
       "Model_Camry                     -0.077485            0.152397       -0.114067   \n",
       "Model_Elantra                   -0.078555            0.152889       -0.113778   \n",
       "Model_E 350                      0.189612           -0.240940        0.126649   \n",
       "Model_Santa FE                  -0.061926            0.101906       -0.068184   \n",
       "Model_H1                        -0.052108            0.104328       -0.078838   \n",
       "Model_FIT                       -0.055060            0.096820       -0.067801   \n",
       "Model_Tucson                    -0.056776            0.091859       -0.060697   \n",
       "Model_X5                        -0.041168           -0.188941        0.251214   \n",
       "Engine volume_random             0.211783           -0.564586        0.482809   \n",
       "Mileage_random                   0.065803           -0.142150        0.111575   \n",
       "Drive wheels_Rear                1.000000           -0.527295       -0.190893   \n",
       "Drive wheels_Front              -0.527295            1.000000       -0.733401   \n",
       "Drive wheels_4                  -0.190893           -0.733401        1.000000   \n",
       "Door=4                          -0.232383            0.140705        0.023368   \n",
       "Door=2                           0.236389           -0.137510       -0.030264   \n",
       "Door>5                           0.035507           -0.034358        0.011285   \n",
       "Leather interior_Yes            -0.042803           -0.053734        0.096322   \n",
       "Wheel_Right-hand drive          -0.034057            0.027059       -0.004012   \n",
       "Engine_Type_Turbo                0.199325           -0.187388        0.057012   \n",
       "\n",
       "                          Door=4    Door=2    Door>5  Leather interior_Yes  \\\n",
       "Prod. year             -0.209745  0.208801  0.042482             -0.390860   \n",
       "Category               -0.116758  0.116745  0.022473              0.143223   \n",
       "Fuel type              -0.063800  0.063303  0.013402              0.124856   \n",
       "Cylinders              -0.058983  0.052697  0.025717              0.209253   \n",
       "Gear box type          -0.161461  0.151759  0.053235             -0.140970   \n",
       "Color                   0.035531 -0.033615 -0.011213              0.072675   \n",
       "Airbags                 0.044864 -0.050214  0.003614              0.198070   \n",
       "Levy_random            -0.038088  0.035175  0.013987              0.013313   \n",
       "Model_Sonata            0.054240 -0.050996 -0.017849              0.115419   \n",
       "Model_Prius             0.046678 -0.049276 -0.003032             -0.134689   \n",
       "Model_Camry             0.043435 -0.043592 -0.007990              0.059358   \n",
       "Model_Elantra           0.042008 -0.040603 -0.011290              0.049427   \n",
       "Model_E 350            -0.023814  0.030083 -0.009761              0.103862   \n",
       "Model_Santa FE          0.029524 -0.027881 -0.009434              0.099054   \n",
       "Model_H1                0.030165 -0.031813 -0.002030              0.093297   \n",
       "Model_FIT               0.029041 -0.030902 -0.001325             -0.122007   \n",
       "Model_Tucson            0.034821 -0.031866 -0.013456              0.087907   \n",
       "Model_X5                0.027940 -0.027950 -0.005347              0.082947   \n",
       "Engine volume_random   -0.030844  0.028607  0.011045              0.280391   \n",
       "Mileage_random         -0.001453  0.003935 -0.005400             -0.007786   \n",
       "Drive wheels_Rear      -0.232383  0.236389  0.035507             -0.042803   \n",
       "Drive wheels_Front      0.140705 -0.137510 -0.034358             -0.053734   \n",
       "Drive wheels_4          0.023368 -0.030264  0.011285              0.096322   \n",
       "Door=4                  1.000000 -0.915117 -0.386416              0.121320   \n",
       "Door=2                 -0.915117  1.000000 -0.018255             -0.115175   \n",
       "Door>5                 -0.386416 -0.018255  1.000000             -0.037380   \n",
       "Leather interior_Yes    0.121320 -0.115175 -0.037380              1.000000   \n",
       "Wheel_Right-hand drive -0.013344  0.011063  0.007784             -0.345980   \n",
       "Engine_Type_Turbo      -0.123277  0.108202  0.058183             -0.106605   \n",
       "\n",
       "                        Wheel_Right-hand drive  Engine_Type_Turbo  \n",
       "Prod. year                            0.219192           0.079937  \n",
       "Category                             -0.150924           0.094231  \n",
       "Fuel type                            -0.118464           0.228640  \n",
       "Cylinders                            -0.094932           0.039786  \n",
       "Gear box type                        -0.062353           0.360393  \n",
       "Color                                -0.076246           0.015363  \n",
       "Airbags                              -0.190408           0.040751  \n",
       "Levy_random                           0.077149          -0.022187  \n",
       "Model_Sonata                         -0.069280          -0.072694  \n",
       "Model_Prius                          -0.059300          -0.075704  \n",
       "Model_Camry                          -0.063925          -0.070196  \n",
       "Model_Elantra                        -0.059677          -0.071734  \n",
       "Model_E 350                          -0.048007          -0.037628  \n",
       "Model_Santa FE                       -0.047217          -0.053045  \n",
       "Model_H1                             -0.043219          -0.048031  \n",
       "Model_FIT                             0.328963          -0.048164  \n",
       "Model_Tucson                         -0.041395          -0.046477  \n",
       "Model_X5                             -0.035822           0.040711  \n",
       "Engine volume_random                 -0.188525          -0.016193  \n",
       "Mileage_random                       -0.012387          -0.004437  \n",
       "Drive wheels_Rear                    -0.034057           0.199325  \n",
       "Drive wheels_Front                    0.027059          -0.187388  \n",
       "Drive wheels_4                       -0.004012           0.057012  \n",
       "Door=4                               -0.013344          -0.123277  \n",
       "Door=2                                0.011063           0.108202  \n",
       "Door>5                                0.007784           0.058183  \n",
       "Leather interior_Yes                 -0.345980          -0.106605  \n",
       "Wheel_Right-hand drive                1.000000          -0.032619  \n",
       "Engine_Type_Turbo                    -0.032619           1.000000  \n",
       "\n",
       "[29 rows x 29 columns]"
      ]
     },
     "execution_count": 127,
     "metadata": {},
     "output_type": "execute_result"
    }
   ],
   "source": [
    "train_X.corr()"
   ]
  },
  {
   "cell_type": "markdown",
   "metadata": {
    "scrolled": true
   },
   "source": [
    "plt.figure(figsize=(15,13))\n",
    "cor = train_X.corr()\n",
    "sns.heatmap(cor, annot=True, cmap=plt.cm.CMRmap_r)\n",
    "plt.show()"
   ]
  },
  {
   "cell_type": "markdown",
   "metadata": {},
   "source": [
    "def correlation(dataset, threshold):\n",
    "    col_corr = set()\n",
    "    corr_matrix = dataset.corr()\n",
    "    for i in range(len(corr_matrix.columns)):\n",
    "        for j in range(i):\n",
    "            if abs(corr_matrix.iloc[i, j]) > threshold:\n",
    "                colname = corr_matrix.columns[i]\n",
    "                col_corr.add(colname)\n",
    "    return col_corr"
   ]
  },
  {
   "cell_type": "markdown",
   "metadata": {},
   "source": [
    "corr_features = correlation(train_X, 0.7)\n",
    "len(set(corr_features))"
   ]
  },
  {
   "cell_type": "markdown",
   "metadata": {
    "scrolled": false
   },
   "source": [
    "corr_features"
   ]
  },
  {
   "cell_type": "markdown",
   "metadata": {},
   "source": [
    "train_X = train_X.drop(corr_features, axis=1)\n",
    "test_X = test_X.drop(corr_features, axis=1)"
   ]
  },
  {
   "cell_type": "code",
   "execution_count": 128,
   "metadata": {},
   "outputs": [],
   "source": [
    "from sklearn.ensemble import RandomForestRegressor\n",
    "from sklearn.model_selection import GridSearchCV"
   ]
  },
  {
   "cell_type": "code",
   "execution_count": 129,
   "metadata": {
    "scrolled": true
   },
   "outputs": [],
   "source": [
    "regressor = RandomForestRegressor()"
   ]
  },
  {
   "cell_type": "code",
   "execution_count": 130,
   "metadata": {},
   "outputs": [
    {
     "data": {
      "text/plain": [
       "RandomForestRegressor()"
      ]
     },
     "execution_count": 130,
     "metadata": {},
     "output_type": "execute_result"
    }
   ],
   "source": [
    "regressor.fit(train_X,train_Y)"
   ]
  },
  {
   "cell_type": "code",
   "execution_count": 131,
   "metadata": {},
   "outputs": [],
   "source": [
    "trainC = pd.concat([train_X, train_Y], axis=1)"
   ]
  },
  {
   "cell_type": "code",
   "execution_count": 132,
   "metadata": {},
   "outputs": [],
   "source": [
    "trainC['fitted_value']=regressor.predict(train_X)"
   ]
  },
  {
   "cell_type": "code",
   "execution_count": 133,
   "metadata": {
    "scrolled": false
   },
   "outputs": [
    {
     "data": {
      "text/plain": [
       "4430     54458.0\n",
       "1755       549.0\n",
       "8247      7213.0\n",
       "10803    13642.0\n",
       "292         30.0\n",
       "          ...   \n",
       "14965       40.0\n",
       "5461     16750.0\n",
       "12724     5959.0\n",
       "15232     6586.0\n",
       "12056     3293.0\n",
       "Name: Price, Length: 13465, dtype: float64"
      ]
     },
     "execution_count": 133,
     "metadata": {},
     "output_type": "execute_result"
    }
   ],
   "source": [
    "trainC['Price']"
   ]
  },
  {
   "cell_type": "code",
   "execution_count": 134,
   "metadata": {
    "scrolled": true
   },
   "outputs": [
    {
     "data": {
      "text/plain": [
       "4430     53340.840000\n",
       "1755       840.583328\n",
       "8247      8369.440000\n",
       "10803    15121.260000\n",
       "292       1023.950000\n",
       "             ...     \n",
       "14965     1033.310000\n",
       "5461     14701.273333\n",
       "12724     5642.733292\n",
       "15232     5947.050000\n",
       "12056     3210.530000\n",
       "Name: fitted_value, Length: 13465, dtype: float64"
      ]
     },
     "execution_count": 134,
     "metadata": {},
     "output_type": "execute_result"
    }
   ],
   "source": [
    "trainC['fitted_value']"
   ]
  },
  {
   "cell_type": "code",
   "execution_count": 135,
   "metadata": {},
   "outputs": [],
   "source": [
    "from sklearn.metrics import mean_squared_error, r2_score,mean_absolute_error,mean_squared_log_error\n",
    "import math"
   ]
  },
  {
   "cell_type": "code",
   "execution_count": 137,
   "metadata": {
    "scrolled": false
   },
   "outputs": [
    {
     "data": {
      "text/plain": [
       "0.795713096003073"
      ]
     },
     "execution_count": 137,
     "metadata": {},
     "output_type": "execute_result"
    }
   ],
   "source": [
    "np.sqrt(mean_squared_log_error(trainC['Price'], trainC['fitted_value']))"
   ]
  },
  {
   "cell_type": "code",
   "execution_count": 138,
   "metadata": {},
   "outputs": [],
   "source": [
    "test1 = pd.concat([test_X, test_Y], axis=1)"
   ]
  },
  {
   "cell_type": "code",
   "execution_count": 139,
   "metadata": {
    "scrolled": true
   },
   "outputs": [
    {
     "data": {
      "text/html": [
       "<div>\n",
       "<style scoped>\n",
       "    .dataframe tbody tr th:only-of-type {\n",
       "        vertical-align: middle;\n",
       "    }\n",
       "\n",
       "    .dataframe tbody tr th {\n",
       "        vertical-align: top;\n",
       "    }\n",
       "\n",
       "    .dataframe thead th {\n",
       "        text-align: right;\n",
       "    }\n",
       "</style>\n",
       "<table border=\"1\" class=\"dataframe\">\n",
       "  <thead>\n",
       "    <tr style=\"text-align: right;\">\n",
       "      <th></th>\n",
       "      <th>Prod. year</th>\n",
       "      <th>Category</th>\n",
       "      <th>Fuel type</th>\n",
       "      <th>Cylinders</th>\n",
       "      <th>Gear box type</th>\n",
       "      <th>Color</th>\n",
       "      <th>Airbags</th>\n",
       "      <th>Levy_random</th>\n",
       "      <th>Model_Sonata</th>\n",
       "      <th>Model_Prius</th>\n",
       "      <th>...</th>\n",
       "      <th>Drive wheels_Rear</th>\n",
       "      <th>Drive wheels_Front</th>\n",
       "      <th>Drive wheels_4</th>\n",
       "      <th>Door=4</th>\n",
       "      <th>Door=2</th>\n",
       "      <th>Door&gt;5</th>\n",
       "      <th>Leather interior_Yes</th>\n",
       "      <th>Wheel_Right-hand drive</th>\n",
       "      <th>Engine_Type_Turbo</th>\n",
       "      <th>Price</th>\n",
       "    </tr>\n",
       "  </thead>\n",
       "  <tbody>\n",
       "    <tr>\n",
       "      <th>6916</th>\n",
       "      <td>16</td>\n",
       "      <td>10</td>\n",
       "      <td>6</td>\n",
       "      <td>4.0</td>\n",
       "      <td>2</td>\n",
       "      <td>4</td>\n",
       "      <td>3</td>\n",
       "      <td>1172.0</td>\n",
       "      <td>0</td>\n",
       "      <td>0</td>\n",
       "      <td>...</td>\n",
       "      <td>0</td>\n",
       "      <td>1</td>\n",
       "      <td>0</td>\n",
       "      <td>0</td>\n",
       "      <td>1</td>\n",
       "      <td>0</td>\n",
       "      <td>0</td>\n",
       "      <td>1</td>\n",
       "      <td>0</td>\n",
       "      <td>7840.0</td>\n",
       "    </tr>\n",
       "    <tr>\n",
       "      <th>4032</th>\n",
       "      <td>19</td>\n",
       "      <td>6</td>\n",
       "      <td>3</td>\n",
       "      <td>4.0</td>\n",
       "      <td>1</td>\n",
       "      <td>11</td>\n",
       "      <td>6</td>\n",
       "      <td>843.0</td>\n",
       "      <td>0</td>\n",
       "      <td>0</td>\n",
       "      <td>...</td>\n",
       "      <td>0</td>\n",
       "      <td>0</td>\n",
       "      <td>1</td>\n",
       "      <td>1</td>\n",
       "      <td>0</td>\n",
       "      <td>0</td>\n",
       "      <td>1</td>\n",
       "      <td>0</td>\n",
       "      <td>0</td>\n",
       "      <td>12544.0</td>\n",
       "    </tr>\n",
       "    <tr>\n",
       "      <th>10112</th>\n",
       "      <td>6</td>\n",
       "      <td>2</td>\n",
       "      <td>1</td>\n",
       "      <td>4.0</td>\n",
       "      <td>3</td>\n",
       "      <td>11</td>\n",
       "      <td>6</td>\n",
       "      <td>441.0</td>\n",
       "      <td>0</td>\n",
       "      <td>0</td>\n",
       "      <td>...</td>\n",
       "      <td>0</td>\n",
       "      <td>1</td>\n",
       "      <td>0</td>\n",
       "      <td>1</td>\n",
       "      <td>0</td>\n",
       "      <td>0</td>\n",
       "      <td>1</td>\n",
       "      <td>0</td>\n",
       "      <td>0</td>\n",
       "      <td>24775.0</td>\n",
       "    </tr>\n",
       "    <tr>\n",
       "      <th>11482</th>\n",
       "      <td>5</td>\n",
       "      <td>2</td>\n",
       "      <td>3</td>\n",
       "      <td>4.0</td>\n",
       "      <td>3</td>\n",
       "      <td>11</td>\n",
       "      <td>12</td>\n",
       "      <td>891.0</td>\n",
       "      <td>0</td>\n",
       "      <td>0</td>\n",
       "      <td>...</td>\n",
       "      <td>0</td>\n",
       "      <td>1</td>\n",
       "      <td>0</td>\n",
       "      <td>1</td>\n",
       "      <td>0</td>\n",
       "      <td>0</td>\n",
       "      <td>0</td>\n",
       "      <td>0</td>\n",
       "      <td>0</td>\n",
       "      <td>25716.0</td>\n",
       "    </tr>\n",
       "    <tr>\n",
       "      <th>7192</th>\n",
       "      <td>24</td>\n",
       "      <td>3</td>\n",
       "      <td>6</td>\n",
       "      <td>1.0</td>\n",
       "      <td>2</td>\n",
       "      <td>9</td>\n",
       "      <td>1</td>\n",
       "      <td>353.0</td>\n",
       "      <td>0</td>\n",
       "      <td>0</td>\n",
       "      <td>...</td>\n",
       "      <td>1</td>\n",
       "      <td>0</td>\n",
       "      <td>0</td>\n",
       "      <td>1</td>\n",
       "      <td>0</td>\n",
       "      <td>0</td>\n",
       "      <td>0</td>\n",
       "      <td>0</td>\n",
       "      <td>0</td>\n",
       "      <td>13500.0</td>\n",
       "    </tr>\n",
       "  </tbody>\n",
       "</table>\n",
       "<p>5 rows × 30 columns</p>\n",
       "</div>"
      ],
      "text/plain": [
       "       Prod. year  Category  Fuel type  Cylinders  Gear box type  Color  \\\n",
       "6916           16        10          6        4.0              2      4   \n",
       "4032           19         6          3        4.0              1     11   \n",
       "10112           6         2          1        4.0              3     11   \n",
       "11482           5         2          3        4.0              3     11   \n",
       "7192           24         3          6        1.0              2      9   \n",
       "\n",
       "       Airbags  Levy_random  Model_Sonata  Model_Prius  ...  \\\n",
       "6916         3       1172.0             0            0  ...   \n",
       "4032         6        843.0             0            0  ...   \n",
       "10112        6        441.0             0            0  ...   \n",
       "11482       12        891.0             0            0  ...   \n",
       "7192         1        353.0             0            0  ...   \n",
       "\n",
       "       Drive wheels_Rear  Drive wheels_Front  Drive wheels_4  Door=4  Door=2  \\\n",
       "6916                   0                   1               0       0       1   \n",
       "4032                   0                   0               1       1       0   \n",
       "10112                  0                   1               0       1       0   \n",
       "11482                  0                   1               0       1       0   \n",
       "7192                   1                   0               0       1       0   \n",
       "\n",
       "       Door>5  Leather interior_Yes  Wheel_Right-hand drive  \\\n",
       "6916        0                     0                       1   \n",
       "4032        0                     1                       0   \n",
       "10112       0                     1                       0   \n",
       "11482       0                     0                       0   \n",
       "7192        0                     0                       0   \n",
       "\n",
       "       Engine_Type_Turbo    Price  \n",
       "6916                   0   7840.0  \n",
       "4032                   0  12544.0  \n",
       "10112                  0  24775.0  \n",
       "11482                  0  25716.0  \n",
       "7192                   0  13500.0  \n",
       "\n",
       "[5 rows x 30 columns]"
      ]
     },
     "execution_count": 139,
     "metadata": {},
     "output_type": "execute_result"
    }
   ],
   "source": [
    "test1.head()"
   ]
  },
  {
   "cell_type": "code",
   "execution_count": 140,
   "metadata": {},
   "outputs": [],
   "source": [
    "test1['Fitted_Values'] = regressor.predict(test_X)"
   ]
  },
  {
   "cell_type": "code",
   "execution_count": 142,
   "metadata": {},
   "outputs": [
    {
     "data": {
      "text/plain": [
       "1.0999642659487705"
      ]
     },
     "execution_count": 142,
     "metadata": {},
     "output_type": "execute_result"
    }
   ],
   "source": [
    "np.sqrt(mean_squared_log_error(test1['Price'],test1['Fitted_Values']))"
   ]
  },
  {
   "cell_type": "code",
   "execution_count": null,
   "metadata": {},
   "outputs": [],
   "source": [
    "#testC_col=testC.columns"
   ]
  },
  {
   "cell_type": "code",
   "execution_count": null,
   "metadata": {
    "scrolled": true
   },
   "outputs": [],
   "source": [
    "#testC['Price'] = regressor.predict(testC)"
   ]
  },
  {
   "cell_type": "code",
   "execution_count": null,
   "metadata": {
    "scrolled": false
   },
   "outputs": [],
   "source": [
    "#testC['Price'].shape"
   ]
  },
  {
   "cell_type": "code",
   "execution_count": null,
   "metadata": {},
   "outputs": [],
   "source": [
    "#testC['Price'].to_csv('Output.csv',index=False)"
   ]
  },
  {
   "cell_type": "code",
   "execution_count": 143,
   "metadata": {},
   "outputs": [],
   "source": [
    "from sklearn import neighbors\n",
    "rmse_val = [] #to store rmse values for different k\n",
    "for K in range(20):\n",
    "    K = K+1\n",
    "    model_N= neighbors.KNeighborsRegressor(n_neighbors = K)"
   ]
  },
  {
   "cell_type": "code",
   "execution_count": 144,
   "metadata": {},
   "outputs": [
    {
     "data": {
      "text/plain": [
       "KNeighborsRegressor(n_neighbors=20)"
      ]
     },
     "execution_count": 144,
     "metadata": {},
     "output_type": "execute_result"
    }
   ],
   "source": [
    "model_N.fit(train_X, train_Y)"
   ]
  },
  {
   "cell_type": "code",
   "execution_count": 145,
   "metadata": {},
   "outputs": [],
   "source": [
    "trainC['N_Values'] = model_N.predict(train_X)"
   ]
  },
  {
   "cell_type": "code",
   "execution_count": 146,
   "metadata": {
    "scrolled": true
   },
   "outputs": [
    {
     "data": {
      "text/plain": [
       "1.598926064938358"
      ]
     },
     "execution_count": 146,
     "metadata": {},
     "output_type": "execute_result"
    }
   ],
   "source": [
    "np.sqrt(mean_squared_log_error(trainC['Price'],trainC['N_Values']))"
   ]
  },
  {
   "cell_type": "code",
   "execution_count": 147,
   "metadata": {},
   "outputs": [],
   "source": [
    "from sklearn.model_selection import GridSearchCV\n",
    "params = {'n_neighbors':[2,3,4,5,6,7,8,9]}\n",
    "\n",
    "knn = neighbors.KNeighborsRegressor()\n",
    "\n",
    "model_G = GridSearchCV(knn, params, cv=2)"
   ]
  },
  {
   "cell_type": "code",
   "execution_count": 148,
   "metadata": {},
   "outputs": [
    {
     "data": {
      "text/plain": [
       "{'n_neighbors': 3}"
      ]
     },
     "execution_count": 148,
     "metadata": {},
     "output_type": "execute_result"
    }
   ],
   "source": [
    "model_G.fit(train_X,train_Y)\n",
    "model_G.best_params_\n"
   ]
  },
  {
   "cell_type": "code",
   "execution_count": 149,
   "metadata": {},
   "outputs": [],
   "source": [
    "trainC['KN_Values'] = model_G.predict(train_X)"
   ]
  },
  {
   "cell_type": "code",
   "execution_count": 150,
   "metadata": {},
   "outputs": [
    {
     "data": {
      "text/plain": [
       "1.192973762298928"
      ]
     },
     "execution_count": 150,
     "metadata": {},
     "output_type": "execute_result"
    }
   ],
   "source": [
    "np.sqrt(mean_squared_log_error(trainC['Price'],trainC['KN_Values']))"
   ]
  },
  {
   "cell_type": "code",
   "execution_count": 151,
   "metadata": {},
   "outputs": [],
   "source": [
    "test1['KN_Values'] = model_G.predict(test_X)"
   ]
  },
  {
   "cell_type": "code",
   "execution_count": 152,
   "metadata": {},
   "outputs": [
    {
     "data": {
      "text/plain": [
       "1.4915769404487553"
      ]
     },
     "execution_count": 152,
     "metadata": {},
     "output_type": "execute_result"
    }
   ],
   "source": [
    "np.sqrt(mean_squared_log_error(test1['Price'],test1['KN_Values']))"
   ]
  }
 ],
 "metadata": {
  "kernelspec": {
   "display_name": "Python 3",
   "language": "python",
   "name": "python3"
  },
  "language_info": {
   "codemirror_mode": {
    "name": "ipython",
    "version": 3
   },
   "file_extension": ".py",
   "mimetype": "text/x-python",
   "name": "python",
   "nbconvert_exporter": "python",
   "pygments_lexer": "ipython3",
   "version": "3.8.5"
  }
 },
 "nbformat": 4,
 "nbformat_minor": 4
}
